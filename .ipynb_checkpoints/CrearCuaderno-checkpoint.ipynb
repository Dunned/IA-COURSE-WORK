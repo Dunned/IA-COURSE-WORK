{
 "cells": [
  {
   "cell_type": "markdown",
   "id": "c0dafdf4",
   "metadata": {},
   "source": [
    "# Ejemplo Creacion de cuaderno\n",
    "## MAS PEQUEÑO\n",
    "PARRAFOR NORMAL\n",
    "**NEGRITA**\n",
    "*ITALICA*\n",
    "* UNO\n",
    "* DOS\n",
    "* TRES\n",
    "- GA\n",
    "- GA"
   ]
  },
  {
   "cell_type": "code",
   "execution_count": 17,
   "id": "b0bfbcc5",
   "metadata": {},
   "outputs": [
    {
     "name": "stdout",
     "output_type": "stream",
     "text": [
      "La suma es: 12\n"
     ]
    }
   ],
   "source": [
    "x=5\n",
    "y=10\n",
    "print(f'La suma es: {x+7}')"
   ]
  },
  {
   "cell_type": "code",
   "execution_count": 18,
   "id": "19e3c64f",
   "metadata": {},
   "outputs": [
    {
     "data": {
      "text/plain": [
       "125"
      ]
     },
     "execution_count": 18,
     "metadata": {},
     "output_type": "execute_result"
    }
   ],
   "source": [
    "x**3"
   ]
  },
  {
   "cell_type": "code",
   "execution_count": null,
   "id": "3daeedf5",
   "metadata": {},
   "outputs": [],
   "source": []
  }
 ],
 "metadata": {
  "kernelspec": {
   "display_name": "Python 3 (ipykernel)",
   "language": "python",
   "name": "python3"
  },
  "language_info": {
   "codemirror_mode": {
    "name": "ipython",
    "version": 3
   },
   "file_extension": ".py",
   "mimetype": "text/x-python",
   "name": "python",
   "nbconvert_exporter": "python",
   "pygments_lexer": "ipython3",
   "version": "3.9.7"
  }
 },
 "nbformat": 4,
 "nbformat_minor": 5
}
