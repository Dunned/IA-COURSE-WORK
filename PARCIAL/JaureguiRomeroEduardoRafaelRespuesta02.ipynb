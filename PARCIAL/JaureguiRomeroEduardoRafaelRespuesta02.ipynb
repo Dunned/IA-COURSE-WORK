{
 "cells": [
  {
   "cell_type": "markdown",
   "id": "7461028a",
   "metadata": {},
   "source": [
    "# PROBLEMA 2"
   ]
  },
  {
   "cell_type": "markdown",
   "id": "b397e0ad",
   "metadata": {},
   "source": [
    "Información de atributos:\n",
    "- a1 Temperatura del paciente {35C-42C}\n",
    "- a2 Aparición de náuseas {sí, no}\n",
    "- a3 Dolor lumbar {sí, no}\n",
    "- a4 Empuje de orina (necesidad continua de orinar) {sí, no}\n",
    "- a5 Dolores de micción {sí, no}\n",
    "- a6 Ardor de uretra, picazón, hinchazón de la salida de la uretra {sí, no}\n",
    "\n",
    "\n",
    "- Decisión d1: inflamación de la vejiga urinaria {sí, no}\n",
    "- Decisión d2: Nefritis de origen en la pelvis renal {sí, no}"
   ]
  },
  {
   "cell_type": "markdown",
   "id": "e18f948b",
   "metadata": {},
   "source": [
    "## IMPORTANDO LIBRERIAS"
   ]
  },
  {
   "cell_type": "code",
   "execution_count": 1,
   "id": "631edd2d",
   "metadata": {},
   "outputs": [],
   "source": [
    "import pandas as pd\n",
    "import numpy as np\n",
    "import matplotlib.pyplot as plt\n",
    "import seaborn as sns"
   ]
  },
  {
   "cell_type": "markdown",
   "id": "76a16b57",
   "metadata": {},
   "source": [
    "## IMPORTAMOS DATOS"
   ]
  },
  {
   "cell_type": "code",
   "execution_count": 2,
   "id": "2ad06efc",
   "metadata": {},
   "outputs": [],
   "source": [
    "encabezado=['Temperatura','Nauseas','Dolor lumbar','Empuje de Orina',\n",
    "            'Dolores de Miccion','Ardor de Uretra','Inflacion','Nefritis']"
   ]
  },
  {
   "cell_type": "code",
   "execution_count": 3,
   "id": "4be814cc",
   "metadata": {},
   "outputs": [],
   "source": [
    "df = pd.read_csv('diagnosis.txt',names=encabezado,delimiter=\"\t\")"
   ]
  },
  {
   "cell_type": "code",
   "execution_count": 4,
   "id": "5e6024e0",
   "metadata": {},
   "outputs": [
    {
     "data": {
      "text/html": [
       "<div>\n",
       "<style scoped>\n",
       "    .dataframe tbody tr th:only-of-type {\n",
       "        vertical-align: middle;\n",
       "    }\n",
       "\n",
       "    .dataframe tbody tr th {\n",
       "        vertical-align: top;\n",
       "    }\n",
       "\n",
       "    .dataframe thead th {\n",
       "        text-align: right;\n",
       "    }\n",
       "</style>\n",
       "<table border=\"1\" class=\"dataframe\">\n",
       "  <thead>\n",
       "    <tr style=\"text-align: right;\">\n",
       "      <th></th>\n",
       "      <th>Temperatura</th>\n",
       "      <th>Nauseas</th>\n",
       "      <th>Dolor lumbar</th>\n",
       "      <th>Empuje de Orina</th>\n",
       "      <th>Dolores de Miccion</th>\n",
       "      <th>Ardor de Uretra</th>\n",
       "      <th>Inflacion</th>\n",
       "      <th>Nefritis</th>\n",
       "    </tr>\n",
       "  </thead>\n",
       "  <tbody>\n",
       "    <tr>\n",
       "      <th>0</th>\n",
       "      <td>35.5</td>\n",
       "      <td>no</td>\n",
       "      <td>yes</td>\n",
       "      <td>no</td>\n",
       "      <td>no</td>\n",
       "      <td>no</td>\n",
       "      <td>no</td>\n",
       "      <td>no</td>\n",
       "    </tr>\n",
       "    <tr>\n",
       "      <th>1</th>\n",
       "      <td>35.9</td>\n",
       "      <td>no</td>\n",
       "      <td>no</td>\n",
       "      <td>yes</td>\n",
       "      <td>yes</td>\n",
       "      <td>yes</td>\n",
       "      <td>yes</td>\n",
       "      <td>no</td>\n",
       "    </tr>\n",
       "    <tr>\n",
       "      <th>2</th>\n",
       "      <td>35.9</td>\n",
       "      <td>no</td>\n",
       "      <td>yes</td>\n",
       "      <td>no</td>\n",
       "      <td>no</td>\n",
       "      <td>no</td>\n",
       "      <td>no</td>\n",
       "      <td>no</td>\n",
       "    </tr>\n",
       "    <tr>\n",
       "      <th>3</th>\n",
       "      <td>36.0</td>\n",
       "      <td>no</td>\n",
       "      <td>no</td>\n",
       "      <td>yes</td>\n",
       "      <td>yes</td>\n",
       "      <td>yes</td>\n",
       "      <td>yes</td>\n",
       "      <td>no</td>\n",
       "    </tr>\n",
       "    <tr>\n",
       "      <th>4</th>\n",
       "      <td>36.0</td>\n",
       "      <td>no</td>\n",
       "      <td>yes</td>\n",
       "      <td>no</td>\n",
       "      <td>no</td>\n",
       "      <td>no</td>\n",
       "      <td>no</td>\n",
       "      <td>no</td>\n",
       "    </tr>\n",
       "  </tbody>\n",
       "</table>\n",
       "</div>"
      ],
      "text/plain": [
       "   Temperatura Nauseas Dolor lumbar Empuje de Orina Dolores de Miccion  \\\n",
       "0         35.5      no          yes              no                 no   \n",
       "1         35.9      no           no             yes                yes   \n",
       "2         35.9      no          yes              no                 no   \n",
       "3         36.0      no           no             yes                yes   \n",
       "4         36.0      no          yes              no                 no   \n",
       "\n",
       "  Ardor de Uretra Inflacion Nefritis  \n",
       "0              no        no       no  \n",
       "1             yes       yes       no  \n",
       "2              no        no       no  \n",
       "3             yes       yes       no  \n",
       "4              no        no       no  "
      ]
     },
     "execution_count": 4,
     "metadata": {},
     "output_type": "execute_result"
    }
   ],
   "source": [
    "df.head()"
   ]
  },
  {
   "cell_type": "code",
   "execution_count": 5,
   "id": "94a2dce4",
   "metadata": {},
   "outputs": [
    {
     "data": {
      "text/html": [
       "<div>\n",
       "<style scoped>\n",
       "    .dataframe tbody tr th:only-of-type {\n",
       "        vertical-align: middle;\n",
       "    }\n",
       "\n",
       "    .dataframe tbody tr th {\n",
       "        vertical-align: top;\n",
       "    }\n",
       "\n",
       "    .dataframe thead th {\n",
       "        text-align: right;\n",
       "    }\n",
       "</style>\n",
       "<table border=\"1\" class=\"dataframe\">\n",
       "  <thead>\n",
       "    <tr style=\"text-align: right;\">\n",
       "      <th></th>\n",
       "      <th>Temperatura</th>\n",
       "      <th>Nauseas</th>\n",
       "      <th>Dolor lumbar</th>\n",
       "      <th>Empuje de Orina</th>\n",
       "      <th>Dolores de Miccion</th>\n",
       "      <th>Ardor de Uretra</th>\n",
       "      <th>Inflacion</th>\n",
       "      <th>Nefritis</th>\n",
       "    </tr>\n",
       "  </thead>\n",
       "  <tbody>\n",
       "    <tr>\n",
       "      <th>115</th>\n",
       "      <td>41.4</td>\n",
       "      <td>no</td>\n",
       "      <td>yes</td>\n",
       "      <td>yes</td>\n",
       "      <td>no</td>\n",
       "      <td>yes</td>\n",
       "      <td>no</td>\n",
       "      <td>yes</td>\n",
       "    </tr>\n",
       "    <tr>\n",
       "      <th>116</th>\n",
       "      <td>41.5</td>\n",
       "      <td>no</td>\n",
       "      <td>no</td>\n",
       "      <td>no</td>\n",
       "      <td>no</td>\n",
       "      <td>no</td>\n",
       "      <td>no</td>\n",
       "      <td>no</td>\n",
       "    </tr>\n",
       "    <tr>\n",
       "      <th>117</th>\n",
       "      <td>41.5</td>\n",
       "      <td>yes</td>\n",
       "      <td>yes</td>\n",
       "      <td>no</td>\n",
       "      <td>yes</td>\n",
       "      <td>no</td>\n",
       "      <td>no</td>\n",
       "      <td>yes</td>\n",
       "    </tr>\n",
       "    <tr>\n",
       "      <th>118</th>\n",
       "      <td>41.5</td>\n",
       "      <td>no</td>\n",
       "      <td>yes</td>\n",
       "      <td>yes</td>\n",
       "      <td>no</td>\n",
       "      <td>yes</td>\n",
       "      <td>no</td>\n",
       "      <td>yes</td>\n",
       "    </tr>\n",
       "    <tr>\n",
       "      <th>119</th>\n",
       "      <td>41.5</td>\n",
       "      <td>no</td>\n",
       "      <td>yes</td>\n",
       "      <td>yes</td>\n",
       "      <td>no</td>\n",
       "      <td>yes</td>\n",
       "      <td>no</td>\n",
       "      <td>yes</td>\n",
       "    </tr>\n",
       "  </tbody>\n",
       "</table>\n",
       "</div>"
      ],
      "text/plain": [
       "     Temperatura Nauseas Dolor lumbar Empuje de Orina Dolores de Miccion  \\\n",
       "115         41.4      no          yes             yes                 no   \n",
       "116         41.5      no           no              no                 no   \n",
       "117         41.5     yes          yes              no                yes   \n",
       "118         41.5      no          yes             yes                 no   \n",
       "119         41.5      no          yes             yes                 no   \n",
       "\n",
       "    Ardor de Uretra Inflacion Nefritis  \n",
       "115             yes        no      yes  \n",
       "116              no        no       no  \n",
       "117              no        no      yes  \n",
       "118             yes        no      yes  \n",
       "119             yes        no      yes  "
      ]
     },
     "execution_count": 5,
     "metadata": {},
     "output_type": "execute_result"
    }
   ],
   "source": [
    "df.tail()"
   ]
  },
  {
   "cell_type": "code",
   "execution_count": 6,
   "id": "6ca38fdd",
   "metadata": {},
   "outputs": [
    {
     "data": {
      "text/html": [
       "<div>\n",
       "<style scoped>\n",
       "    .dataframe tbody tr th:only-of-type {\n",
       "        vertical-align: middle;\n",
       "    }\n",
       "\n",
       "    .dataframe tbody tr th {\n",
       "        vertical-align: top;\n",
       "    }\n",
       "\n",
       "    .dataframe thead th {\n",
       "        text-align: right;\n",
       "    }\n",
       "</style>\n",
       "<table border=\"1\" class=\"dataframe\">\n",
       "  <thead>\n",
       "    <tr style=\"text-align: right;\">\n",
       "      <th></th>\n",
       "      <th>Temperatura</th>\n",
       "    </tr>\n",
       "  </thead>\n",
       "  <tbody>\n",
       "    <tr>\n",
       "      <th>count</th>\n",
       "      <td>120.000000</td>\n",
       "    </tr>\n",
       "    <tr>\n",
       "      <th>mean</th>\n",
       "      <td>38.724167</td>\n",
       "    </tr>\n",
       "    <tr>\n",
       "      <th>std</th>\n",
       "      <td>1.819132</td>\n",
       "    </tr>\n",
       "    <tr>\n",
       "      <th>min</th>\n",
       "      <td>35.500000</td>\n",
       "    </tr>\n",
       "    <tr>\n",
       "      <th>25%</th>\n",
       "      <td>37.100000</td>\n",
       "    </tr>\n",
       "    <tr>\n",
       "      <th>50%</th>\n",
       "      <td>37.950000</td>\n",
       "    </tr>\n",
       "    <tr>\n",
       "      <th>75%</th>\n",
       "      <td>40.600000</td>\n",
       "    </tr>\n",
       "    <tr>\n",
       "      <th>max</th>\n",
       "      <td>41.500000</td>\n",
       "    </tr>\n",
       "  </tbody>\n",
       "</table>\n",
       "</div>"
      ],
      "text/plain": [
       "       Temperatura\n",
       "count   120.000000\n",
       "mean     38.724167\n",
       "std       1.819132\n",
       "min      35.500000\n",
       "25%      37.100000\n",
       "50%      37.950000\n",
       "75%      40.600000\n",
       "max      41.500000"
      ]
     },
     "execution_count": 6,
     "metadata": {},
     "output_type": "execute_result"
    }
   ],
   "source": [
    "df.describe()"
   ]
  },
  {
   "cell_type": "code",
   "execution_count": 7,
   "id": "67f6845e",
   "metadata": {},
   "outputs": [
    {
     "name": "stdout",
     "output_type": "stream",
     "text": [
      "<class 'pandas.core.frame.DataFrame'>\n",
      "RangeIndex: 120 entries, 0 to 119\n",
      "Data columns (total 8 columns):\n",
      " #   Column              Non-Null Count  Dtype  \n",
      "---  ------              --------------  -----  \n",
      " 0   Temperatura         120 non-null    float64\n",
      " 1   Nauseas             120 non-null    object \n",
      " 2   Dolor lumbar        120 non-null    object \n",
      " 3   Empuje de Orina     120 non-null    object \n",
      " 4   Dolores de Miccion  120 non-null    object \n",
      " 5   Ardor de Uretra     120 non-null    object \n",
      " 6   Inflacion           120 non-null    object \n",
      " 7   Nefritis            120 non-null    object \n",
      "dtypes: float64(1), object(7)\n",
      "memory usage: 7.6+ KB\n"
     ]
    }
   ],
   "source": [
    "df.info()"
   ]
  },
  {
   "cell_type": "markdown",
   "id": "42137e46",
   "metadata": {},
   "source": [
    "## ANALISIS EXPLORATORIO DE DATOS"
   ]
  },
  {
   "cell_type": "code",
   "execution_count": 8,
   "id": "ca6c1b21",
   "metadata": {},
   "outputs": [
    {
     "data": {
      "text/plain": [
       "<AxesSubplot:xlabel='Nauseas', ylabel='count'>"
      ]
     },
     "execution_count": 8,
     "metadata": {},
     "output_type": "execute_result"
    },
    {
     "data": {
      "image/png": "[encoded data removed]",
      "text/plain": [
       "<Figure size 432x288 with 1 Axes>"
      ]
     },
     "metadata": {},
     "output_type": "display_data"
    }
   ],
   "source": [
    "sns.set_style('whitegrid')\n",
    "sns.countplot(x='Nauseas',data=df,palette='RdBu_r') #DIAGRAMA DE BARRAS , VARIALBE DE ENTRADA NAUSEAS"
   ]
  },
  {
   "cell_type": "code",
   "execution_count": 9,
   "id": "596cae68",
   "metadata": {},
   "outputs": [
    {
     "data": {
      "text/plain": [
       "<AxesSubplot:xlabel='Dolor lumbar', ylabel='count'>"
      ]
     },
     "execution_count": 9,
     "metadata": {},
     "output_type": "execute_result"
    },
    {
     "data": {
      "image/png": "[encoded data removed]",
      "text/plain": [
       "<Figure size 432x288 with 1 Axes>"
      ]
     },
     "metadata": {},
     "output_type": "display_data"
    }
   ],
   "source": [
    "sns.countplot(x='Dolor lumbar',data=df,palette='RdBu_r') #DIAGRAMA DE BARRAS , VARIALBE DE ENTRADA DOLOR LUMBAR"
   ]
  },
  {
   "cell_type": "code",
   "execution_count": 10,
   "id": "6a6f0a31",
   "metadata": {},
   "outputs": [
    {
     "data": {
      "text/plain": [
       "<AxesSubplot:xlabel='Ardor de Uretra', ylabel='count'>"
      ]
     },
     "execution_count": 10,
     "metadata": {},
     "output_type": "execute_result"
    },
    {
     "data": {
      "image/png": "[encoded data removed]",
      "text/plain": [
       "<Figure size 432x288 with 1 Axes>"
      ]
     },
     "metadata": {},
     "output_type": "display_data"
    }
   ],
   "source": [
    "sns.countplot(x='Ardor de Uretra',data=df,palette='RdBu_r') #DIAGRAMA DE BARRAS , VARIABLE ARDOR DE URETRA"
   ]
  },
  {
   "cell_type": "code",
   "execution_count": 11,
   "id": "ab3da19c",
   "metadata": {},
   "outputs": [
    {
     "data": {
      "text/plain": [
       "<AxesSubplot:xlabel='Dolores de Miccion', ylabel='count'>"
      ]
     },
     "execution_count": 11,
     "metadata": {},
     "output_type": "execute_result"
    },
    {
     "data": {
      "image/png": "[encoded data removed]",
      "text/plain": [
       "<Figure size 432x288 with 1 Axes>"
      ]
     },
     "metadata": {},
     "output_type": "display_data"
    }
   ],
   "source": [
    "sns.set_style('whitegrid')\n",
    "sns.countplot(x='Dolores de Miccion',hue='Empuje de Orina',data=df,palette='rainbow') \n",
    "#hue = separacion dentro del X (Empuje de Orina)"
   ]
  },
  {
   "cell_type": "code",
   "execution_count": 12,
   "id": "31b1d65d",
   "metadata": {},
   "outputs": [
    {
     "data": {
      "text/plain": [
       "<seaborn.axisgrid.FacetGrid at 0x7fa4e129fee0>"
      ]
     },
     "execution_count": 12,
     "metadata": {},
     "output_type": "execute_result"
    },
    {
     "data": {
      "image/png": "[encoded data removed]",
      "text/plain": [
       "<Figure size 720x720 with 1 Axes>"
      ]
     },
     "metadata": {},
     "output_type": "display_data"
    }
   ],
   "source": [
    "sns.displot(df['Temperatura'],kde=True\n",
    "            ,color='darkred',bins=6,height=10) \n",
    "#GRAFICO DE DISTRIBUCION "
   ]
  },
  {
   "cell_type": "code",
   "execution_count": 13,
   "id": "0fa0ab05",
   "metadata": {},
   "outputs": [
    {
     "data": {
      "text/plain": [
       "<AxesSubplot:>"
      ]
     },
     "execution_count": 13,
     "metadata": {},
     "output_type": "execute_result"
    },
    {
     "data": {
      "image/png": "[encoded data removed]",
      "text/plain": [
       "<Figure size 1440x720 with 1 Axes>"
      ]
     },
     "metadata": {},
     "output_type": "display_data"
    }
   ],
   "source": [
    "df['Temperatura'].hist(bins=30,\n",
    "                  color='darkgreen',\n",
    "                  alpha=0.7,figsize=(20,10))"
   ]
  },
  {
   "cell_type": "code",
   "execution_count": 14,
   "id": "17533191",
   "metadata": {},
   "outputs": [
    {
     "data": {
      "text/plain": [
       "<AxesSubplot:xlabel='Ardor de Uretra', ylabel='count'>"
      ]
     },
     "execution_count": 14,
     "metadata": {},
     "output_type": "execute_result"
    },
    {
     "data": {
      "image/png": "[encoded data removed]",
      "text/plain": [
       "<Figure size 432x288 with 1 Axes>"
      ]
     },
     "metadata": {},
     "output_type": "display_data"
    }
   ],
   "source": [
    "sns.countplot(x='Ardor de Uretra',data=df)"
   ]
  },
  {
   "cell_type": "code",
   "execution_count": 15,
   "id": "cd141f6d",
   "metadata": {},
   "outputs": [
    {
     "data": {
      "text/plain": [
       "<AxesSubplot:>"
      ]
     },
     "execution_count": 15,
     "metadata": {},
     "output_type": "execute_result"
    },
    {
     "data": {
      "image/png": "[encoded data removed]",
      "text/plain": [
       "<Figure size 1440x720 with 1 Axes>"
      ]
     },
     "metadata": {},
     "output_type": "display_data"
    }
   ],
   "source": [
    "df['Temperatura'].hist(color='blue',bins=40,figsize=(20,10),legend=True)"
   ]
  },
  {
   "cell_type": "markdown",
   "id": "cd36472e",
   "metadata": {},
   "source": [
    "## Conversión de características categóricas"
   ]
  },
  {
   "cell_type": "code",
   "execution_count": 16,
   "id": "f566e911",
   "metadata": {},
   "outputs": [
    {
     "name": "stdout",
     "output_type": "stream",
     "text": [
      "<class 'pandas.core.frame.DataFrame'>\n",
      "RangeIndex: 120 entries, 0 to 119\n",
      "Data columns (total 8 columns):\n",
      " #   Column              Non-Null Count  Dtype  \n",
      "---  ------              --------------  -----  \n",
      " 0   Temperatura         120 non-null    float64\n",
      " 1   Nauseas             120 non-null    object \n",
      " 2   Dolor lumbar        120 non-null    object \n",
      " 3   Empuje de Orina     120 non-null    object \n",
      " 4   Dolores de Miccion  120 non-null    object \n",
      " 5   Ardor de Uretra     120 non-null    object \n",
      " 6   Inflacion           120 non-null    object \n",
      " 7   Nefritis            120 non-null    object \n",
      "dtypes: float64(1), object(7)\n",
      "memory usage: 7.6+ KB\n"
     ]
    }
   ],
   "source": [
    "df.info()"
   ]
  },
  {
   "cell_type": "code",
   "execution_count": 17,
   "id": "ea3441b7",
   "metadata": {},
   "outputs": [
    {
     "data": {
      "text/html": [
       "<div>\n",
       "<style scoped>\n",
       "    .dataframe tbody tr th:only-of-type {\n",
       "        vertical-align: middle;\n",
       "    }\n",
       "\n",
       "    .dataframe tbody tr th {\n",
       "        vertical-align: top;\n",
       "    }\n",
       "\n",
       "    .dataframe thead th {\n",
       "        text-align: right;\n",
       "    }\n",
       "</style>\n",
       "<table border=\"1\" class=\"dataframe\">\n",
       "  <thead>\n",
       "    <tr style=\"text-align: right;\">\n",
       "      <th></th>\n",
       "      <th>Temperatura</th>\n",
       "      <th>Nauseas</th>\n",
       "      <th>Dolor lumbar</th>\n",
       "      <th>Empuje de Orina</th>\n",
       "      <th>Dolores de Miccion</th>\n",
       "      <th>Ardor de Uretra</th>\n",
       "      <th>Inflacion</th>\n",
       "      <th>Nefritis</th>\n",
       "    </tr>\n",
       "  </thead>\n",
       "  <tbody>\n",
       "    <tr>\n",
       "      <th>0</th>\n",
       "      <td>35.5</td>\n",
       "      <td>no</td>\n",
       "      <td>yes</td>\n",
       "      <td>no</td>\n",
       "      <td>no</td>\n",
       "      <td>no</td>\n",
       "      <td>no</td>\n",
       "      <td>no</td>\n",
       "    </tr>\n",
       "    <tr>\n",
       "      <th>1</th>\n",
       "      <td>35.9</td>\n",
       "      <td>no</td>\n",
       "      <td>no</td>\n",
       "      <td>yes</td>\n",
       "      <td>yes</td>\n",
       "      <td>yes</td>\n",
       "      <td>yes</td>\n",
       "      <td>no</td>\n",
       "    </tr>\n",
       "    <tr>\n",
       "      <th>2</th>\n",
       "      <td>35.9</td>\n",
       "      <td>no</td>\n",
       "      <td>yes</td>\n",
       "      <td>no</td>\n",
       "      <td>no</td>\n",
       "      <td>no</td>\n",
       "      <td>no</td>\n",
       "      <td>no</td>\n",
       "    </tr>\n",
       "    <tr>\n",
       "      <th>3</th>\n",
       "      <td>36.0</td>\n",
       "      <td>no</td>\n",
       "      <td>no</td>\n",
       "      <td>yes</td>\n",
       "      <td>yes</td>\n",
       "      <td>yes</td>\n",
       "      <td>yes</td>\n",
       "      <td>no</td>\n",
       "    </tr>\n",
       "    <tr>\n",
       "      <th>4</th>\n",
       "      <td>36.0</td>\n",
       "      <td>no</td>\n",
       "      <td>yes</td>\n",
       "      <td>no</td>\n",
       "      <td>no</td>\n",
       "      <td>no</td>\n",
       "      <td>no</td>\n",
       "      <td>no</td>\n",
       "    </tr>\n",
       "  </tbody>\n",
       "</table>\n",
       "</div>"
      ],
      "text/plain": [
       "   Temperatura Nauseas Dolor lumbar Empuje de Orina Dolores de Miccion  \\\n",
       "0         35.5      no          yes              no                 no   \n",
       "1         35.9      no           no             yes                yes   \n",
       "2         35.9      no          yes              no                 no   \n",
       "3         36.0      no           no             yes                yes   \n",
       "4         36.0      no          yes              no                 no   \n",
       "\n",
       "  Ardor de Uretra Inflacion Nefritis  \n",
       "0              no        no       no  \n",
       "1             yes       yes       no  \n",
       "2              no        no       no  \n",
       "3             yes       yes       no  \n",
       "4              no        no       no  "
      ]
     },
     "execution_count": 17,
     "metadata": {},
     "output_type": "execute_result"
    }
   ],
   "source": [
    "df.head()"
   ]
  },
  {
   "cell_type": "markdown",
   "id": "4cf936de",
   "metadata": {},
   "source": [
    "####  COMPROBEMOS SI LOS VALORES A CAMBIAR SON UNICOS"
   ]
  },
  {
   "cell_type": "code",
   "execution_count": 18,
   "id": "3a83111b",
   "metadata": {},
   "outputs": [
    {
     "data": {
      "text/plain": [
       "array(['no', 'yes'], dtype=object)"
      ]
     },
     "execution_count": 18,
     "metadata": {},
     "output_type": "execute_result"
    }
   ],
   "source": [
    "df['Nauseas'].unique()"
   ]
  },
  {
   "cell_type": "code",
   "execution_count": 19,
   "id": "036a6758",
   "metadata": {},
   "outputs": [
    {
     "data": {
      "text/plain": [
       "array(['yes', 'no'], dtype=object)"
      ]
     },
     "execution_count": 19,
     "metadata": {},
     "output_type": "execute_result"
    }
   ],
   "source": [
    "df['Dolor lumbar'].unique()"
   ]
  },
  {
   "cell_type": "code",
   "execution_count": 20,
   "id": "943e788c",
   "metadata": {},
   "outputs": [
    {
     "data": {
      "text/plain": [
       "array(['no', 'yes'], dtype=object)"
      ]
     },
     "execution_count": 20,
     "metadata": {},
     "output_type": "execute_result"
    }
   ],
   "source": [
    "df['Empuje de Orina'].unique()"
   ]
  },
  {
   "cell_type": "code",
   "execution_count": 21,
   "id": "23af74c6",
   "metadata": {},
   "outputs": [
    {
     "data": {
      "text/plain": [
       "array(['no', 'yes'], dtype=object)"
      ]
     },
     "execution_count": 21,
     "metadata": {},
     "output_type": "execute_result"
    }
   ],
   "source": [
    "df['Dolores de Miccion'].unique()"
   ]
  },
  {
   "cell_type": "code",
   "execution_count": 22,
   "id": "bc74a670",
   "metadata": {},
   "outputs": [
    {
     "data": {
      "text/plain": [
       "array(['no', 'yes'], dtype=object)"
      ]
     },
     "execution_count": 22,
     "metadata": {},
     "output_type": "execute_result"
    }
   ],
   "source": [
    "df['Ardor de Uretra'].unique()"
   ]
  },
  {
   "cell_type": "code",
   "execution_count": 23,
   "id": "53ed7de3",
   "metadata": {},
   "outputs": [
    {
     "data": {
      "text/plain": [
       "array(['no', 'yes'], dtype=object)"
      ]
     },
     "execution_count": 23,
     "metadata": {},
     "output_type": "execute_result"
    }
   ],
   "source": [
    "df['Inflacion'].unique()"
   ]
  },
  {
   "cell_type": "code",
   "execution_count": 24,
   "id": "ae4b9594",
   "metadata": {},
   "outputs": [
    {
     "data": {
      "text/plain": [
       "array(['no', 'yes'], dtype=object)"
      ]
     },
     "execution_count": 24,
     "metadata": {},
     "output_type": "execute_result"
    }
   ],
   "source": [
    "df['Nefritis'].unique()"
   ]
  },
  {
   "cell_type": "code",
   "execution_count": 25,
   "id": "fc5f72f1",
   "metadata": {},
   "outputs": [
    {
     "name": "stdout",
     "output_type": "stream",
     "text": [
      "     Nauseas\n",
      "0          0\n",
      "1          0\n",
      "2          0\n",
      "3          0\n",
      "4          0\n",
      "..       ...\n",
      "115        0\n",
      "116        0\n",
      "117        1\n",
      "118        0\n",
      "119        0\n",
      "\n",
      "[120 rows x 1 columns]\n"
     ]
    }
   ],
   "source": [
    "Nauseas = pd.get_dummies(df['Nauseas'],drop_first=True)\n",
    "Nauseas.set_axis(['Nauseas'], axis='columns', inplace=True)\n",
    "print(Nauseas)"
   ]
  },
  {
   "cell_type": "code",
   "execution_count": 26,
   "id": "4369e76e",
   "metadata": {},
   "outputs": [
    {
     "name": "stdout",
     "output_type": "stream",
     "text": [
      "     Dolor lumbar\n",
      "0               1\n",
      "1               0\n",
      "2               1\n",
      "3               0\n",
      "4               1\n",
      "..            ...\n",
      "115             1\n",
      "116             0\n",
      "117             1\n",
      "118             1\n",
      "119             1\n",
      "\n",
      "[120 rows x 1 columns]\n"
     ]
    }
   ],
   "source": [
    "Dolor_lumbar = pd.get_dummies(df['Dolor lumbar'],drop_first=True)\n",
    "Dolor_lumbar.set_axis(['Dolor lumbar'], axis='columns', inplace=True)\n",
    "print(Dolor_lumbar)"
   ]
  },
  {
   "cell_type": "code",
   "execution_count": 27,
   "id": "20aec817",
   "metadata": {},
   "outputs": [
    {
     "name": "stdout",
     "output_type": "stream",
     "text": [
      "     Empuje de Orina\n",
      "0                  0\n",
      "1                  1\n",
      "2                  0\n",
      "3                  1\n",
      "4                  0\n",
      "..               ...\n",
      "115                1\n",
      "116                0\n",
      "117                0\n",
      "118                1\n",
      "119                1\n",
      "\n",
      "[120 rows x 1 columns]\n"
     ]
    }
   ],
   "source": [
    "Empuje_de_Orina= pd.get_dummies(df['Empuje de Orina'],drop_first=True)\n",
    "Empuje_de_Orina.set_axis(['Empuje de Orina'], axis='columns', inplace=True)\n",
    "print(Empuje_de_Orina)"
   ]
  },
  {
   "cell_type": "code",
   "execution_count": 28,
   "id": "3a80a5ea",
   "metadata": {},
   "outputs": [
    {
     "name": "stdout",
     "output_type": "stream",
     "text": [
      "     Dolores de Miccion\n",
      "0                     0\n",
      "1                     1\n",
      "2                     0\n",
      "3                     1\n",
      "4                     0\n",
      "..                  ...\n",
      "115                   0\n",
      "116                   0\n",
      "117                   1\n",
      "118                   0\n",
      "119                   0\n",
      "\n",
      "[120 rows x 1 columns]\n"
     ]
    }
   ],
   "source": [
    "Dolores_de_Miccion= pd.get_dummies(df['Dolores de Miccion'],drop_first=True)\n",
    "Dolores_de_Miccion.set_axis(['Dolores de Miccion'], axis='columns', inplace=True)\n",
    "print(Dolores_de_Miccion)"
   ]
  },
  {
   "cell_type": "code",
   "execution_count": 29,
   "id": "98ad3939",
   "metadata": {},
   "outputs": [
    {
     "name": "stdout",
     "output_type": "stream",
     "text": [
      "     Ardor de Uretra\n",
      "0                  0\n",
      "1                  1\n",
      "2                  0\n",
      "3                  1\n",
      "4                  0\n",
      "..               ...\n",
      "115                1\n",
      "116                0\n",
      "117                0\n",
      "118                1\n",
      "119                1\n",
      "\n",
      "[120 rows x 1 columns]\n"
     ]
    }
   ],
   "source": [
    "Ardor_de_Uretra= pd.get_dummies(df['Ardor de Uretra'],drop_first=True)\n",
    "Ardor_de_Uretra.set_axis(['Ardor de Uretra'], axis='columns', inplace=True)\n",
    "print(Ardor_de_Uretra)"
   ]
  },
  {
   "cell_type": "code",
   "execution_count": 30,
   "id": "b459406a",
   "metadata": {},
   "outputs": [
    {
     "name": "stdout",
     "output_type": "stream",
     "text": [
      "     Inflacion\n",
      "0            0\n",
      "1            1\n",
      "2            0\n",
      "3            1\n",
      "4            0\n",
      "..         ...\n",
      "115          0\n",
      "116          0\n",
      "117          0\n",
      "118          0\n",
      "119          0\n",
      "\n",
      "[120 rows x 1 columns]\n"
     ]
    }
   ],
   "source": [
    "Inflacion= pd.get_dummies(df['Inflacion'],drop_first=True)\n",
    "Inflacion.set_axis(['Inflacion'], axis='columns', inplace=True)\n",
    "print(Inflacion)"
   ]
  },
  {
   "cell_type": "code",
   "execution_count": 31,
   "id": "1b85de31",
   "metadata": {},
   "outputs": [
    {
     "name": "stdout",
     "output_type": "stream",
     "text": [
      "     Nefritis\n",
      "0           0\n",
      "1           0\n",
      "2           0\n",
      "3           0\n",
      "4           0\n",
      "..        ...\n",
      "115         1\n",
      "116         0\n",
      "117         1\n",
      "118         1\n",
      "119         1\n",
      "\n",
      "[120 rows x 1 columns]\n"
     ]
    }
   ],
   "source": [
    "Nefritis= pd.get_dummies(df['Nefritis'],drop_first=True)\n",
    "Nefritis.set_axis(['Nefritis'], axis='columns', inplace=True)\n",
    "print(Nefritis)"
   ]
  },
  {
   "cell_type": "code",
   "execution_count": 32,
   "id": "07d746d0",
   "metadata": {},
   "outputs": [],
   "source": [
    "df.drop(['Nauseas','Dolor lumbar','Empuje de Orina',\n",
    "            'Dolores de Miccion','Ardor de Uretra','Inflacion','Nefritis'],axis=1,inplace=True)"
   ]
  },
  {
   "cell_type": "code",
   "execution_count": 33,
   "id": "ac17733b",
   "metadata": {},
   "outputs": [
    {
     "data": {
      "text/html": [
       "<div>\n",
       "<style scoped>\n",
       "    .dataframe tbody tr th:only-of-type {\n",
       "        vertical-align: middle;\n",
       "    }\n",
       "\n",
       "    .dataframe tbody tr th {\n",
       "        vertical-align: top;\n",
       "    }\n",
       "\n",
       "    .dataframe thead th {\n",
       "        text-align: right;\n",
       "    }\n",
       "</style>\n",
       "<table border=\"1\" class=\"dataframe\">\n",
       "  <thead>\n",
       "    <tr style=\"text-align: right;\">\n",
       "      <th></th>\n",
       "      <th>Temperatura</th>\n",
       "    </tr>\n",
       "  </thead>\n",
       "  <tbody>\n",
       "    <tr>\n",
       "      <th>0</th>\n",
       "      <td>35.5</td>\n",
       "    </tr>\n",
       "    <tr>\n",
       "      <th>1</th>\n",
       "      <td>35.9</td>\n",
       "    </tr>\n",
       "    <tr>\n",
       "      <th>2</th>\n",
       "      <td>35.9</td>\n",
       "    </tr>\n",
       "    <tr>\n",
       "      <th>3</th>\n",
       "      <td>36.0</td>\n",
       "    </tr>\n",
       "    <tr>\n",
       "      <th>4</th>\n",
       "      <td>36.0</td>\n",
       "    </tr>\n",
       "  </tbody>\n",
       "</table>\n",
       "</div>"
      ],
      "text/plain": [
       "   Temperatura\n",
       "0         35.5\n",
       "1         35.9\n",
       "2         35.9\n",
       "3         36.0\n",
       "4         36.0"
      ]
     },
     "execution_count": 33,
     "metadata": {},
     "output_type": "execute_result"
    }
   ],
   "source": [
    "df.head()"
   ]
  },
  {
   "cell_type": "code",
   "execution_count": 34,
   "id": "fbbee65c",
   "metadata": {},
   "outputs": [],
   "source": [
    "df = pd.concat([df,Nauseas,Dolor_lumbar,Empuje_de_Orina,Dolores_de_Miccion,Ardor_de_Uretra,Inflacion,\n",
    "               Nefritis],axis=1)"
   ]
  },
  {
   "cell_type": "code",
   "execution_count": 35,
   "id": "2f9168cc",
   "metadata": {},
   "outputs": [
    {
     "data": {
      "text/html": [
       "<div>\n",
       "<style scoped>\n",
       "    .dataframe tbody tr th:only-of-type {\n",
       "        vertical-align: middle;\n",
       "    }\n",
       "\n",
       "    .dataframe tbody tr th {\n",
       "        vertical-align: top;\n",
       "    }\n",
       "\n",
       "    .dataframe thead th {\n",
       "        text-align: right;\n",
       "    }\n",
       "</style>\n",
       "<table border=\"1\" class=\"dataframe\">\n",
       "  <thead>\n",
       "    <tr style=\"text-align: right;\">\n",
       "      <th></th>\n",
       "      <th>Temperatura</th>\n",
       "      <th>Nauseas</th>\n",
       "      <th>Dolor lumbar</th>\n",
       "      <th>Empuje de Orina</th>\n",
       "      <th>Dolores de Miccion</th>\n",
       "      <th>Ardor de Uretra</th>\n",
       "      <th>Inflacion</th>\n",
       "      <th>Nefritis</th>\n",
       "    </tr>\n",
       "  </thead>\n",
       "  <tbody>\n",
       "    <tr>\n",
       "      <th>0</th>\n",
       "      <td>35.5</td>\n",
       "      <td>0</td>\n",
       "      <td>1</td>\n",
       "      <td>0</td>\n",
       "      <td>0</td>\n",
       "      <td>0</td>\n",
       "      <td>0</td>\n",
       "      <td>0</td>\n",
       "    </tr>\n",
       "    <tr>\n",
       "      <th>1</th>\n",
       "      <td>35.9</td>\n",
       "      <td>0</td>\n",
       "      <td>0</td>\n",
       "      <td>1</td>\n",
       "      <td>1</td>\n",
       "      <td>1</td>\n",
       "      <td>1</td>\n",
       "      <td>0</td>\n",
       "    </tr>\n",
       "    <tr>\n",
       "      <th>2</th>\n",
       "      <td>35.9</td>\n",
       "      <td>0</td>\n",
       "      <td>1</td>\n",
       "      <td>0</td>\n",
       "      <td>0</td>\n",
       "      <td>0</td>\n",
       "      <td>0</td>\n",
       "      <td>0</td>\n",
       "    </tr>\n",
       "    <tr>\n",
       "      <th>3</th>\n",
       "      <td>36.0</td>\n",
       "      <td>0</td>\n",
       "      <td>0</td>\n",
       "      <td>1</td>\n",
       "      <td>1</td>\n",
       "      <td>1</td>\n",
       "      <td>1</td>\n",
       "      <td>0</td>\n",
       "    </tr>\n",
       "    <tr>\n",
       "      <th>4</th>\n",
       "      <td>36.0</td>\n",
       "      <td>0</td>\n",
       "      <td>1</td>\n",
       "      <td>0</td>\n",
       "      <td>0</td>\n",
       "      <td>0</td>\n",
       "      <td>0</td>\n",
       "      <td>0</td>\n",
       "    </tr>\n",
       "  </tbody>\n",
       "</table>\n",
       "</div>"
      ],
      "text/plain": [
       "   Temperatura  Nauseas  Dolor lumbar  Empuje de Orina  Dolores de Miccion  \\\n",
       "0         35.5        0             1                0                   0   \n",
       "1         35.9        0             0                1                   1   \n",
       "2         35.9        0             1                0                   0   \n",
       "3         36.0        0             0                1                   1   \n",
       "4         36.0        0             1                0                   0   \n",
       "\n",
       "   Ardor de Uretra  Inflacion  Nefritis  \n",
       "0                0          0         0  \n",
       "1                1          1         0  \n",
       "2                0          0         0  \n",
       "3                1          1         0  \n",
       "4                0          0         0  "
      ]
     },
     "execution_count": 35,
     "metadata": {},
     "output_type": "execute_result"
    }
   ],
   "source": [
    "df.head()"
   ]
  },
  {
   "cell_type": "code",
   "execution_count": 36,
   "id": "e39da930",
   "metadata": {},
   "outputs": [
    {
     "name": "stdout",
     "output_type": "stream",
     "text": [
      "<class 'pandas.core.frame.DataFrame'>\n",
      "RangeIndex: 120 entries, 0 to 119\n",
      "Data columns (total 8 columns):\n",
      " #   Column              Non-Null Count  Dtype  \n",
      "---  ------              --------------  -----  \n",
      " 0   Temperatura         120 non-null    float64\n",
      " 1   Nauseas             120 non-null    uint8  \n",
      " 2   Dolor lumbar        120 non-null    uint8  \n",
      " 3   Empuje de Orina     120 non-null    uint8  \n",
      " 4   Dolores de Miccion  120 non-null    uint8  \n",
      " 5   Ardor de Uretra     120 non-null    uint8  \n",
      " 6   Inflacion           120 non-null    uint8  \n",
      " 7   Nefritis            120 non-null    uint8  \n",
      "dtypes: float64(1), uint8(7)\n",
      "memory usage: 1.9 KB\n"
     ]
    }
   ],
   "source": [
    "df.info()"
   ]
  },
  {
   "cell_type": "code",
   "execution_count": 37,
   "id": "31507661",
   "metadata": {},
   "outputs": [
    {
     "data": {
      "text/plain": [
       "<seaborn.axisgrid.PairGrid at 0x7fa509b5be50>"
      ]
     },
     "execution_count": 37,
     "metadata": {},
     "output_type": "execute_result"
    },
    {
     "data": {
      "image/png": "[encoded data removed]",
      "text/plain": [
       "<Figure size 1440x1440 with 72 Axes>"
      ]
     },
     "metadata": {},
     "output_type": "display_data"
    }
   ],
   "source": [
    "sns.pairplot(df)"
   ]
  },
  {
   "cell_type": "markdown",
   "id": "e632da15",
   "metadata": {},
   "source": [
    "## Construcción del modelo de Regresión Logística PARA Y=INFLACION"
   ]
  },
  {
   "cell_type": "markdown",
   "id": "78bf65b7",
   "metadata": {},
   "source": [
    "## División de datos de entrenamiento y prueba"
   ]
  },
  {
   "cell_type": "code",
   "execution_count": 38,
   "id": "4c160064",
   "metadata": {},
   "outputs": [],
   "source": [
    "from sklearn.model_selection import train_test_split"
   ]
  },
  {
   "cell_type": "code",
   "execution_count": 39,
   "id": "9f65bd65",
   "metadata": {},
   "outputs": [],
   "source": [
    "X1 = df.drop(['Nefritis','Inflacion'],axis=1)"
   ]
  },
  {
   "cell_type": "code",
   "execution_count": 40,
   "id": "9caba34c",
   "metadata": {},
   "outputs": [
    {
     "data": {
      "text/html": [
       "<div>\n",
       "<style scoped>\n",
       "    .dataframe tbody tr th:only-of-type {\n",
       "        vertical-align: middle;\n",
       "    }\n",
       "\n",
       "    .dataframe tbody tr th {\n",
       "        vertical-align: top;\n",
       "    }\n",
       "\n",
       "    .dataframe thead th {\n",
       "        text-align: right;\n",
       "    }\n",
       "</style>\n",
       "<table border=\"1\" class=\"dataframe\">\n",
       "  <thead>\n",
       "    <tr style=\"text-align: right;\">\n",
       "      <th></th>\n",
       "      <th>Temperatura</th>\n",
       "      <th>Nauseas</th>\n",
       "      <th>Dolor lumbar</th>\n",
       "      <th>Empuje de Orina</th>\n",
       "      <th>Dolores de Miccion</th>\n",
       "      <th>Ardor de Uretra</th>\n",
       "    </tr>\n",
       "  </thead>\n",
       "  <tbody>\n",
       "    <tr>\n",
       "      <th>0</th>\n",
       "      <td>35.5</td>\n",
       "      <td>0</td>\n",
       "      <td>1</td>\n",
       "      <td>0</td>\n",
       "      <td>0</td>\n",
       "      <td>0</td>\n",
       "    </tr>\n",
       "    <tr>\n",
       "      <th>1</th>\n",
       "      <td>35.9</td>\n",
       "      <td>0</td>\n",
       "      <td>0</td>\n",
       "      <td>1</td>\n",
       "      <td>1</td>\n",
       "      <td>1</td>\n",
       "    </tr>\n",
       "    <tr>\n",
       "      <th>2</th>\n",
       "      <td>35.9</td>\n",
       "      <td>0</td>\n",
       "      <td>1</td>\n",
       "      <td>0</td>\n",
       "      <td>0</td>\n",
       "      <td>0</td>\n",
       "    </tr>\n",
       "    <tr>\n",
       "      <th>3</th>\n",
       "      <td>36.0</td>\n",
       "      <td>0</td>\n",
       "      <td>0</td>\n",
       "      <td>1</td>\n",
       "      <td>1</td>\n",
       "      <td>1</td>\n",
       "    </tr>\n",
       "    <tr>\n",
       "      <th>4</th>\n",
       "      <td>36.0</td>\n",
       "      <td>0</td>\n",
       "      <td>1</td>\n",
       "      <td>0</td>\n",
       "      <td>0</td>\n",
       "      <td>0</td>\n",
       "    </tr>\n",
       "  </tbody>\n",
       "</table>\n",
       "</div>"
      ],
      "text/plain": [
       "   Temperatura  Nauseas  Dolor lumbar  Empuje de Orina  Dolores de Miccion  \\\n",
       "0         35.5        0             1                0                   0   \n",
       "1         35.9        0             0                1                   1   \n",
       "2         35.9        0             1                0                   0   \n",
       "3         36.0        0             0                1                   1   \n",
       "4         36.0        0             1                0                   0   \n",
       "\n",
       "   Ardor de Uretra  \n",
       "0                0  \n",
       "1                1  \n",
       "2                0  \n",
       "3                1  \n",
       "4                0  "
      ]
     },
     "execution_count": 40,
     "metadata": {},
     "output_type": "execute_result"
    }
   ],
   "source": [
    "X1.head()"
   ]
  },
  {
   "cell_type": "code",
   "execution_count": 41,
   "id": "42426d4f",
   "metadata": {},
   "outputs": [],
   "source": [
    "y1=df['Inflacion']"
   ]
  },
  {
   "cell_type": "code",
   "execution_count": 42,
   "id": "6909eabb",
   "metadata": {},
   "outputs": [
    {
     "data": {
      "text/plain": [
       "0      0\n",
       "1      1\n",
       "2      0\n",
       "3      1\n",
       "4      0\n",
       "      ..\n",
       "115    0\n",
       "116    0\n",
       "117    0\n",
       "118    0\n",
       "119    0\n",
       "Name: Inflacion, Length: 120, dtype: uint8"
      ]
     },
     "execution_count": 42,
     "metadata": {},
     "output_type": "execute_result"
    }
   ],
   "source": [
    "y1"
   ]
  },
  {
   "cell_type": "code",
   "execution_count": 43,
   "id": "a273dbfc",
   "metadata": {},
   "outputs": [],
   "source": [
    "X_train1, X_test1, y_train1, y_test1 = train_test_split(X1, \n",
    "                                                    y1, \n",
    "                                                    test_size=0.30, \n",
    "                                                    random_state=60)"
   ]
  },
  {
   "cell_type": "markdown",
   "id": "4421e31c",
   "metadata": {},
   "source": [
    "## ENTRENAMIENTO Y PREDICCION"
   ]
  },
  {
   "cell_type": "code",
   "execution_count": 44,
   "id": "5e8c9d7c",
   "metadata": {},
   "outputs": [],
   "source": [
    "from sklearn.linear_model import LogisticRegression"
   ]
  },
  {
   "cell_type": "code",
   "execution_count": 45,
   "id": "dadff1e3",
   "metadata": {},
   "outputs": [],
   "source": [
    "logmodel1 = LogisticRegression(max_iter=1000)"
   ]
  },
  {
   "cell_type": "code",
   "execution_count": 46,
   "id": "387eb680",
   "metadata": {},
   "outputs": [
    {
     "data": {
      "text/plain": [
       "LogisticRegression(max_iter=1000)"
      ]
     },
     "execution_count": 46,
     "metadata": {},
     "output_type": "execute_result"
    }
   ],
   "source": [
    "logmodel1.fit(X_train1,y_train1)"
   ]
  },
  {
   "cell_type": "code",
   "execution_count": 47,
   "id": "a81f8989",
   "metadata": {},
   "outputs": [],
   "source": [
    "predictions1 = logmodel1.predict(X_test1)"
   ]
  },
  {
   "cell_type": "code",
   "execution_count": 48,
   "id": "3ce9241a",
   "metadata": {},
   "outputs": [
    {
     "data": {
      "text/plain": [
       "21     1\n",
       "105    1\n",
       "97     0\n",
       "93     1\n",
       "3      1\n",
       "23     1\n",
       "58     1\n",
       "91     0\n",
       "1      1\n",
       "95     0\n",
       "56     1\n",
       "19     0\n",
       "28     0\n",
       "73     0\n",
       "4      0\n",
       "89     1\n",
       "88     1\n",
       "110    1\n",
       "30     1\n",
       "55     1\n",
       "61     0\n",
       "8      1\n",
       "92     1\n",
       "14     0\n",
       "96     0\n",
       "82     0\n",
       "69     0\n",
       "37     0\n",
       "13     1\n",
       "35     1\n",
       "22     0\n",
       "29     1\n",
       "78     1\n",
       "52     0\n",
       "25     1\n",
       "62     0\n",
       "Name: Inflacion, dtype: uint8"
      ]
     },
     "execution_count": 48,
     "metadata": {},
     "output_type": "execute_result"
    }
   ],
   "source": [
    "y_test1"
   ]
  },
  {
   "cell_type": "code",
   "execution_count": 49,
   "id": "8f84f49e",
   "metadata": {},
   "outputs": [
    {
     "data": {
      "text/html": [
       "<div>\n",
       "<style scoped>\n",
       "    .dataframe tbody tr th:only-of-type {\n",
       "        vertical-align: middle;\n",
       "    }\n",
       "\n",
       "    .dataframe tbody tr th {\n",
       "        vertical-align: top;\n",
       "    }\n",
       "\n",
       "    .dataframe thead th {\n",
       "        text-align: right;\n",
       "    }\n",
       "</style>\n",
       "<table border=\"1\" class=\"dataframe\">\n",
       "  <thead>\n",
       "    <tr style=\"text-align: right;\">\n",
       "      <th></th>\n",
       "      <th>Temperatura</th>\n",
       "      <th>Nauseas</th>\n",
       "      <th>Dolor lumbar</th>\n",
       "      <th>Empuje de Orina</th>\n",
       "      <th>Dolores de Miccion</th>\n",
       "      <th>Ardor de Uretra</th>\n",
       "    </tr>\n",
       "  </thead>\n",
       "  <tbody>\n",
       "    <tr>\n",
       "      <th>21</th>\n",
       "      <td>37.0</td>\n",
       "      <td>0</td>\n",
       "      <td>0</td>\n",
       "      <td>1</td>\n",
       "      <td>1</td>\n",
       "      <td>0</td>\n",
       "    </tr>\n",
       "    <tr>\n",
       "      <th>105</th>\n",
       "      <td>41.1</td>\n",
       "      <td>1</td>\n",
       "      <td>1</td>\n",
       "      <td>1</td>\n",
       "      <td>1</td>\n",
       "      <td>1</td>\n",
       "    </tr>\n",
       "    <tr>\n",
       "      <th>97</th>\n",
       "      <td>40.8</td>\n",
       "      <td>0</td>\n",
       "      <td>1</td>\n",
       "      <td>1</td>\n",
       "      <td>0</td>\n",
       "      <td>1</td>\n",
       "    </tr>\n",
       "    <tr>\n",
       "      <th>93</th>\n",
       "      <td>40.7</td>\n",
       "      <td>1</td>\n",
       "      <td>1</td>\n",
       "      <td>1</td>\n",
       "      <td>1</td>\n",
       "      <td>0</td>\n",
       "    </tr>\n",
       "    <tr>\n",
       "      <th>3</th>\n",
       "      <td>36.0</td>\n",
       "      <td>0</td>\n",
       "      <td>0</td>\n",
       "      <td>1</td>\n",
       "      <td>1</td>\n",
       "      <td>1</td>\n",
       "    </tr>\n",
       "    <tr>\n",
       "      <th>23</th>\n",
       "      <td>37.0</td>\n",
       "      <td>0</td>\n",
       "      <td>0</td>\n",
       "      <td>1</td>\n",
       "      <td>1</td>\n",
       "      <td>1</td>\n",
       "    </tr>\n",
       "    <tr>\n",
       "      <th>58</th>\n",
       "      <td>37.9</td>\n",
       "      <td>0</td>\n",
       "      <td>0</td>\n",
       "      <td>1</td>\n",
       "      <td>1</td>\n",
       "      <td>1</td>\n",
       "    </tr>\n",
       "    <tr>\n",
       "      <th>91</th>\n",
       "      <td>40.6</td>\n",
       "      <td>1</td>\n",
       "      <td>1</td>\n",
       "      <td>0</td>\n",
       "      <td>1</td>\n",
       "      <td>0</td>\n",
       "    </tr>\n",
       "    <tr>\n",
       "      <th>1</th>\n",
       "      <td>35.9</td>\n",
       "      <td>0</td>\n",
       "      <td>0</td>\n",
       "      <td>1</td>\n",
       "      <td>1</td>\n",
       "      <td>1</td>\n",
       "    </tr>\n",
       "    <tr>\n",
       "      <th>95</th>\n",
       "      <td>40.7</td>\n",
       "      <td>1</td>\n",
       "      <td>1</td>\n",
       "      <td>0</td>\n",
       "      <td>1</td>\n",
       "      <td>0</td>\n",
       "    </tr>\n",
       "    <tr>\n",
       "      <th>56</th>\n",
       "      <td>37.9</td>\n",
       "      <td>0</td>\n",
       "      <td>0</td>\n",
       "      <td>1</td>\n",
       "      <td>1</td>\n",
       "      <td>0</td>\n",
       "    </tr>\n",
       "    <tr>\n",
       "      <th>19</th>\n",
       "      <td>36.9</td>\n",
       "      <td>0</td>\n",
       "      <td>1</td>\n",
       "      <td>0</td>\n",
       "      <td>0</td>\n",
       "      <td>0</td>\n",
       "    </tr>\n",
       "    <tr>\n",
       "      <th>28</th>\n",
       "      <td>37.1</td>\n",
       "      <td>0</td>\n",
       "      <td>1</td>\n",
       "      <td>0</td>\n",
       "      <td>0</td>\n",
       "      <td>0</td>\n",
       "    </tr>\n",
       "    <tr>\n",
       "      <th>73</th>\n",
       "      <td>40.0</td>\n",
       "      <td>0</td>\n",
       "      <td>0</td>\n",
       "      <td>0</td>\n",
       "      <td>0</td>\n",
       "      <td>0</td>\n",
       "    </tr>\n",
       "    <tr>\n",
       "      <th>4</th>\n",
       "      <td>36.0</td>\n",
       "      <td>0</td>\n",
       "      <td>1</td>\n",
       "      <td>0</td>\n",
       "      <td>0</td>\n",
       "      <td>0</td>\n",
       "    </tr>\n",
       "    <tr>\n",
       "      <th>89</th>\n",
       "      <td>40.6</td>\n",
       "      <td>1</td>\n",
       "      <td>1</td>\n",
       "      <td>1</td>\n",
       "      <td>1</td>\n",
       "      <td>1</td>\n",
       "    </tr>\n",
       "    <tr>\n",
       "      <th>88</th>\n",
       "      <td>40.5</td>\n",
       "      <td>1</td>\n",
       "      <td>1</td>\n",
       "      <td>1</td>\n",
       "      <td>1</td>\n",
       "      <td>0</td>\n",
       "    </tr>\n",
       "    <tr>\n",
       "      <th>110</th>\n",
       "      <td>41.2</td>\n",
       "      <td>1</td>\n",
       "      <td>1</td>\n",
       "      <td>1</td>\n",
       "      <td>1</td>\n",
       "      <td>1</td>\n",
       "    </tr>\n",
       "    <tr>\n",
       "      <th>30</th>\n",
       "      <td>37.1</td>\n",
       "      <td>0</td>\n",
       "      <td>0</td>\n",
       "      <td>1</td>\n",
       "      <td>0</td>\n",
       "      <td>0</td>\n",
       "    </tr>\n",
       "    <tr>\n",
       "      <th>55</th>\n",
       "      <td>37.9</td>\n",
       "      <td>0</td>\n",
       "      <td>0</td>\n",
       "      <td>1</td>\n",
       "      <td>1</td>\n",
       "      <td>0</td>\n",
       "    </tr>\n",
       "    <tr>\n",
       "      <th>61</th>\n",
       "      <td>38.0</td>\n",
       "      <td>0</td>\n",
       "      <td>1</td>\n",
       "      <td>1</td>\n",
       "      <td>0</td>\n",
       "      <td>1</td>\n",
       "    </tr>\n",
       "    <tr>\n",
       "      <th>8</th>\n",
       "      <td>36.3</td>\n",
       "      <td>0</td>\n",
       "      <td>0</td>\n",
       "      <td>1</td>\n",
       "      <td>1</td>\n",
       "      <td>1</td>\n",
       "    </tr>\n",
       "    <tr>\n",
       "      <th>92</th>\n",
       "      <td>40.7</td>\n",
       "      <td>1</td>\n",
       "      <td>1</td>\n",
       "      <td>1</td>\n",
       "      <td>1</td>\n",
       "      <td>1</td>\n",
       "    </tr>\n",
       "    <tr>\n",
       "      <th>14</th>\n",
       "      <td>36.7</td>\n",
       "      <td>0</td>\n",
       "      <td>1</td>\n",
       "      <td>0</td>\n",
       "      <td>0</td>\n",
       "      <td>0</td>\n",
       "    </tr>\n",
       "    <tr>\n",
       "      <th>96</th>\n",
       "      <td>40.7</td>\n",
       "      <td>0</td>\n",
       "      <td>1</td>\n",
       "      <td>1</td>\n",
       "      <td>0</td>\n",
       "      <td>1</td>\n",
       "    </tr>\n",
       "    <tr>\n",
       "      <th>82</th>\n",
       "      <td>40.3</td>\n",
       "      <td>0</td>\n",
       "      <td>1</td>\n",
       "      <td>1</td>\n",
       "      <td>0</td>\n",
       "      <td>1</td>\n",
       "    </tr>\n",
       "    <tr>\n",
       "      <th>69</th>\n",
       "      <td>39.7</td>\n",
       "      <td>0</td>\n",
       "      <td>1</td>\n",
       "      <td>1</td>\n",
       "      <td>0</td>\n",
       "      <td>1</td>\n",
       "    </tr>\n",
       "    <tr>\n",
       "      <th>37</th>\n",
       "      <td>37.4</td>\n",
       "      <td>0</td>\n",
       "      <td>1</td>\n",
       "      <td>0</td>\n",
       "      <td>0</td>\n",
       "      <td>0</td>\n",
       "    </tr>\n",
       "    <tr>\n",
       "      <th>13</th>\n",
       "      <td>36.7</td>\n",
       "      <td>0</td>\n",
       "      <td>0</td>\n",
       "      <td>1</td>\n",
       "      <td>1</td>\n",
       "      <td>1</td>\n",
       "    </tr>\n",
       "    <tr>\n",
       "      <th>35</th>\n",
       "      <td>37.3</td>\n",
       "      <td>0</td>\n",
       "      <td>0</td>\n",
       "      <td>1</td>\n",
       "      <td>1</td>\n",
       "      <td>1</td>\n",
       "    </tr>\n",
       "    <tr>\n",
       "      <th>22</th>\n",
       "      <td>37.0</td>\n",
       "      <td>0</td>\n",
       "      <td>1</td>\n",
       "      <td>0</td>\n",
       "      <td>0</td>\n",
       "      <td>0</td>\n",
       "    </tr>\n",
       "    <tr>\n",
       "      <th>29</th>\n",
       "      <td>37.1</td>\n",
       "      <td>0</td>\n",
       "      <td>0</td>\n",
       "      <td>1</td>\n",
       "      <td>1</td>\n",
       "      <td>1</td>\n",
       "    </tr>\n",
       "    <tr>\n",
       "      <th>78</th>\n",
       "      <td>40.1</td>\n",
       "      <td>1</td>\n",
       "      <td>1</td>\n",
       "      <td>1</td>\n",
       "      <td>1</td>\n",
       "      <td>0</td>\n",
       "    </tr>\n",
       "    <tr>\n",
       "      <th>52</th>\n",
       "      <td>37.8</td>\n",
       "      <td>0</td>\n",
       "      <td>1</td>\n",
       "      <td>0</td>\n",
       "      <td>0</td>\n",
       "      <td>0</td>\n",
       "    </tr>\n",
       "    <tr>\n",
       "      <th>25</th>\n",
       "      <td>37.0</td>\n",
       "      <td>0</td>\n",
       "      <td>0</td>\n",
       "      <td>1</td>\n",
       "      <td>1</td>\n",
       "      <td>1</td>\n",
       "    </tr>\n",
       "    <tr>\n",
       "      <th>62</th>\n",
       "      <td>38.1</td>\n",
       "      <td>0</td>\n",
       "      <td>1</td>\n",
       "      <td>1</td>\n",
       "      <td>0</td>\n",
       "      <td>1</td>\n",
       "    </tr>\n",
       "  </tbody>\n",
       "</table>\n",
       "</div>"
      ],
      "text/plain": [
       "     Temperatura  Nauseas  Dolor lumbar  Empuje de Orina  Dolores de Miccion  \\\n",
       "21          37.0        0             0                1                   1   \n",
       "105         41.1        1             1                1                   1   \n",
       "97          40.8        0             1                1                   0   \n",
       "93          40.7        1             1                1                   1   \n",
       "3           36.0        0             0                1                   1   \n",
       "23          37.0        0             0                1                   1   \n",
       "58          37.9        0             0                1                   1   \n",
       "91          40.6        1             1                0                   1   \n",
       "1           35.9        0             0                1                   1   \n",
       "95          40.7        1             1                0                   1   \n",
       "56          37.9        0             0                1                   1   \n",
       "19          36.9        0             1                0                   0   \n",
       "28          37.1        0             1                0                   0   \n",
       "73          40.0        0             0                0                   0   \n",
       "4           36.0        0             1                0                   0   \n",
       "89          40.6        1             1                1                   1   \n",
       "88          40.5        1             1                1                   1   \n",
       "110         41.2        1             1                1                   1   \n",
       "30          37.1        0             0                1                   0   \n",
       "55          37.9        0             0                1                   1   \n",
       "61          38.0        0             1                1                   0   \n",
       "8           36.3        0             0                1                   1   \n",
       "92          40.7        1             1                1                   1   \n",
       "14          36.7        0             1                0                   0   \n",
       "96          40.7        0             1                1                   0   \n",
       "82          40.3        0             1                1                   0   \n",
       "69          39.7        0             1                1                   0   \n",
       "37          37.4        0             1                0                   0   \n",
       "13          36.7        0             0                1                   1   \n",
       "35          37.3        0             0                1                   1   \n",
       "22          37.0        0             1                0                   0   \n",
       "29          37.1        0             0                1                   1   \n",
       "78          40.1        1             1                1                   1   \n",
       "52          37.8        0             1                0                   0   \n",
       "25          37.0        0             0                1                   1   \n",
       "62          38.1        0             1                1                   0   \n",
       "\n",
       "     Ardor de Uretra  \n",
       "21                 0  \n",
       "105                1  \n",
       "97                 1  \n",
       "93                 0  \n",
       "3                  1  \n",
       "23                 1  \n",
       "58                 1  \n",
       "91                 0  \n",
       "1                  1  \n",
       "95                 0  \n",
       "56                 0  \n",
       "19                 0  \n",
       "28                 0  \n",
       "73                 0  \n",
       "4                  0  \n",
       "89                 1  \n",
       "88                 0  \n",
       "110                1  \n",
       "30                 0  \n",
       "55                 0  \n",
       "61                 1  \n",
       "8                  1  \n",
       "92                 1  \n",
       "14                 0  \n",
       "96                 1  \n",
       "82                 1  \n",
       "69                 1  \n",
       "37                 0  \n",
       "13                 1  \n",
       "35                 1  \n",
       "22                 0  \n",
       "29                 1  \n",
       "78                 0  \n",
       "52                 0  \n",
       "25                 1  \n",
       "62                 1  "
      ]
     },
     "execution_count": 49,
     "metadata": {},
     "output_type": "execute_result"
    }
   ],
   "source": [
    "X_test1"
   ]
  },
  {
   "cell_type": "code",
   "execution_count": 50,
   "id": "33bedffb",
   "metadata": {},
   "outputs": [
    {
     "data": {
      "text/plain": [
       "array([1, 1, 0, 1, 1, 1, 1, 0, 1, 0, 1, 0, 0, 0, 0, 1, 1, 1, 1, 1, 0, 1,\n",
       "       1, 0, 0, 0, 0, 0, 1, 1, 0, 1, 1, 0, 1, 0], dtype=uint8)"
      ]
     },
     "execution_count": 50,
     "metadata": {},
     "output_type": "execute_result"
    }
   ],
   "source": [
    "predictions1"
   ]
  },
  {
   "cell_type": "markdown",
   "id": "51c0be50",
   "metadata": {},
   "source": [
    "## Evaluación MODELO 1 PARA Y=INFLACION"
   ]
  },
  {
   "cell_type": "code",
   "execution_count": 51,
   "id": "2ec46eb0",
   "metadata": {},
   "outputs": [],
   "source": [
    "from sklearn.metrics import confusion_matrix"
   ]
  },
  {
   "cell_type": "code",
   "execution_count": 52,
   "id": "b2171c12",
   "metadata": {},
   "outputs": [
    {
     "data": {
      "text/plain": [
       "array([[16,  0],\n",
       "       [ 0, 20]])"
      ]
     },
     "execution_count": 52,
     "metadata": {},
     "output_type": "execute_result"
    }
   ],
   "source": [
    "confusion_matrix(y_test1,predictions1)"
   ]
  },
  {
   "cell_type": "code",
   "execution_count": 53,
   "id": "e80818af",
   "metadata": {},
   "outputs": [],
   "source": [
    "from sklearn.metrics import classification_report"
   ]
  },
  {
   "cell_type": "code",
   "execution_count": 54,
   "id": "4d6be006",
   "metadata": {},
   "outputs": [
    {
     "name": "stdout",
     "output_type": "stream",
     "text": [
      "              precision    recall  f1-score   support\n",
      "\n",
      "           0       1.00      1.00      1.00        16\n",
      "           1       1.00      1.00      1.00        20\n",
      "\n",
      "    accuracy                           1.00        36\n",
      "   macro avg       1.00      1.00      1.00        36\n",
      "weighted avg       1.00      1.00      1.00        36\n",
      "\n"
     ]
    }
   ],
   "source": [
    "print(classification_report(y_test1,predictions1))"
   ]
  },
  {
   "cell_type": "markdown",
   "id": "bc012837",
   "metadata": {},
   "source": [
    "## Construcción del modelo de Regresión Logística PARA Y=Nefritis"
   ]
  },
  {
   "cell_type": "markdown",
   "id": "2616a572",
   "metadata": {},
   "source": [
    "## División de datos de entrenamiento y prueba"
   ]
  },
  {
   "cell_type": "code",
   "execution_count": 55,
   "id": "a7b8671f",
   "metadata": {},
   "outputs": [],
   "source": [
    "X2 = df.drop(['Nefritis','Inflacion'],axis=1)"
   ]
  },
  {
   "cell_type": "code",
   "execution_count": 56,
   "id": "e818c6e8",
   "metadata": {},
   "outputs": [
    {
     "data": {
      "text/html": [
       "<div>\n",
       "<style scoped>\n",
       "    .dataframe tbody tr th:only-of-type {\n",
       "        vertical-align: middle;\n",
       "    }\n",
       "\n",
       "    .dataframe tbody tr th {\n",
       "        vertical-align: top;\n",
       "    }\n",
       "\n",
       "    .dataframe thead th {\n",
       "        text-align: right;\n",
       "    }\n",
       "</style>\n",
       "<table border=\"1\" class=\"dataframe\">\n",
       "  <thead>\n",
       "    <tr style=\"text-align: right;\">\n",
       "      <th></th>\n",
       "      <th>Temperatura</th>\n",
       "      <th>Nauseas</th>\n",
       "      <th>Dolor lumbar</th>\n",
       "      <th>Empuje de Orina</th>\n",
       "      <th>Dolores de Miccion</th>\n",
       "      <th>Ardor de Uretra</th>\n",
       "    </tr>\n",
       "  </thead>\n",
       "  <tbody>\n",
       "    <tr>\n",
       "      <th>0</th>\n",
       "      <td>35.5</td>\n",
       "      <td>0</td>\n",
       "      <td>1</td>\n",
       "      <td>0</td>\n",
       "      <td>0</td>\n",
       "      <td>0</td>\n",
       "    </tr>\n",
       "    <tr>\n",
       "      <th>1</th>\n",
       "      <td>35.9</td>\n",
       "      <td>0</td>\n",
       "      <td>0</td>\n",
       "      <td>1</td>\n",
       "      <td>1</td>\n",
       "      <td>1</td>\n",
       "    </tr>\n",
       "    <tr>\n",
       "      <th>2</th>\n",
       "      <td>35.9</td>\n",
       "      <td>0</td>\n",
       "      <td>1</td>\n",
       "      <td>0</td>\n",
       "      <td>0</td>\n",
       "      <td>0</td>\n",
       "    </tr>\n",
       "    <tr>\n",
       "      <th>3</th>\n",
       "      <td>36.0</td>\n",
       "      <td>0</td>\n",
       "      <td>0</td>\n",
       "      <td>1</td>\n",
       "      <td>1</td>\n",
       "      <td>1</td>\n",
       "    </tr>\n",
       "    <tr>\n",
       "      <th>4</th>\n",
       "      <td>36.0</td>\n",
       "      <td>0</td>\n",
       "      <td>1</td>\n",
       "      <td>0</td>\n",
       "      <td>0</td>\n",
       "      <td>0</td>\n",
       "    </tr>\n",
       "    <tr>\n",
       "      <th>...</th>\n",
       "      <td>...</td>\n",
       "      <td>...</td>\n",
       "      <td>...</td>\n",
       "      <td>...</td>\n",
       "      <td>...</td>\n",
       "      <td>...</td>\n",
       "    </tr>\n",
       "    <tr>\n",
       "      <th>115</th>\n",
       "      <td>41.4</td>\n",
       "      <td>0</td>\n",
       "      <td>1</td>\n",
       "      <td>1</td>\n",
       "      <td>0</td>\n",
       "      <td>1</td>\n",
       "    </tr>\n",
       "    <tr>\n",
       "      <th>116</th>\n",
       "      <td>41.5</td>\n",
       "      <td>0</td>\n",
       "      <td>0</td>\n",
       "      <td>0</td>\n",
       "      <td>0</td>\n",
       "      <td>0</td>\n",
       "    </tr>\n",
       "    <tr>\n",
       "      <th>117</th>\n",
       "      <td>41.5</td>\n",
       "      <td>1</td>\n",
       "      <td>1</td>\n",
       "      <td>0</td>\n",
       "      <td>1</td>\n",
       "      <td>0</td>\n",
       "    </tr>\n",
       "    <tr>\n",
       "      <th>118</th>\n",
       "      <td>41.5</td>\n",
       "      <td>0</td>\n",
       "      <td>1</td>\n",
       "      <td>1</td>\n",
       "      <td>0</td>\n",
       "      <td>1</td>\n",
       "    </tr>\n",
       "    <tr>\n",
       "      <th>119</th>\n",
       "      <td>41.5</td>\n",
       "      <td>0</td>\n",
       "      <td>1</td>\n",
       "      <td>1</td>\n",
       "      <td>0</td>\n",
       "      <td>1</td>\n",
       "    </tr>\n",
       "  </tbody>\n",
       "</table>\n",
       "<p>120 rows × 6 columns</p>\n",
       "</div>"
      ],
      "text/plain": [
       "     Temperatura  Nauseas  Dolor lumbar  Empuje de Orina  Dolores de Miccion  \\\n",
       "0           35.5        0             1                0                   0   \n",
       "1           35.9        0             0                1                   1   \n",
       "2           35.9        0             1                0                   0   \n",
       "3           36.0        0             0                1                   1   \n",
       "4           36.0        0             1                0                   0   \n",
       "..           ...      ...           ...              ...                 ...   \n",
       "115         41.4        0             1                1                   0   \n",
       "116         41.5        0             0                0                   0   \n",
       "117         41.5        1             1                0                   1   \n",
       "118         41.5        0             1                1                   0   \n",
       "119         41.5        0             1                1                   0   \n",
       "\n",
       "     Ardor de Uretra  \n",
       "0                  0  \n",
       "1                  1  \n",
       "2                  0  \n",
       "3                  1  \n",
       "4                  0  \n",
       "..               ...  \n",
       "115                1  \n",
       "116                0  \n",
       "117                0  \n",
       "118                1  \n",
       "119                1  \n",
       "\n",
       "[120 rows x 6 columns]"
      ]
     },
     "execution_count": 56,
     "metadata": {},
     "output_type": "execute_result"
    }
   ],
   "source": [
    "X2"
   ]
  },
  {
   "cell_type": "code",
   "execution_count": 57,
   "id": "83d6fa35",
   "metadata": {},
   "outputs": [],
   "source": [
    "y2=df['Nefritis']"
   ]
  },
  {
   "cell_type": "code",
   "execution_count": 58,
   "id": "e546143f",
   "metadata": {},
   "outputs": [
    {
     "data": {
      "text/plain": [
       "0      0\n",
       "1      0\n",
       "2      0\n",
       "3      0\n",
       "4      0\n",
       "      ..\n",
       "115    1\n",
       "116    0\n",
       "117    1\n",
       "118    1\n",
       "119    1\n",
       "Name: Nefritis, Length: 120, dtype: uint8"
      ]
     },
     "execution_count": 58,
     "metadata": {},
     "output_type": "execute_result"
    }
   ],
   "source": [
    "y2"
   ]
  },
  {
   "cell_type": "code",
   "execution_count": 59,
   "id": "c1633e12",
   "metadata": {},
   "outputs": [],
   "source": [
    "X_train2, X_test2, y_train2, y_test2 = train_test_split(X2, \n",
    "                                                    y2, \n",
    "                                                    test_size=0.35, \n",
    "                                                    random_state=101)"
   ]
  },
  {
   "cell_type": "markdown",
   "id": "7783ad1b",
   "metadata": {},
   "source": [
    "## ENTRENAMIENTO Y PREDICCION"
   ]
  },
  {
   "cell_type": "code",
   "execution_count": 60,
   "id": "ed170eb9",
   "metadata": {},
   "outputs": [],
   "source": [
    "from sklearn.linear_model import LogisticRegression"
   ]
  },
  {
   "cell_type": "code",
   "execution_count": 61,
   "id": "f7df16ed",
   "metadata": {},
   "outputs": [],
   "source": [
    "logmodel2 = LogisticRegression(max_iter=1000)"
   ]
  },
  {
   "cell_type": "code",
   "execution_count": 62,
   "id": "326ae9dc",
   "metadata": {},
   "outputs": [
    {
     "data": {
      "text/plain": [
       "LogisticRegression(max_iter=1000)"
      ]
     },
     "execution_count": 62,
     "metadata": {},
     "output_type": "execute_result"
    }
   ],
   "source": [
    "logmodel2.fit(X_train2,y_train2)"
   ]
  },
  {
   "cell_type": "code",
   "execution_count": 63,
   "id": "74acfe8e",
   "metadata": {},
   "outputs": [],
   "source": [
    "predictions2 = logmodel2.predict(X_test2)"
   ]
  },
  {
   "cell_type": "code",
   "execution_count": 64,
   "id": "573f1fd7",
   "metadata": {},
   "outputs": [
    {
     "data": {
      "text/plain": [
       "13     0\n",
       "68     1\n",
       "54     0\n",
       "21     0\n",
       "67     1\n",
       "1      0\n",
       "53     0\n",
       "98     1\n",
       "41     0\n",
       "99     1\n",
       "57     0\n",
       "100    1\n",
       "66     1\n",
       "45     0\n",
       "16     0\n",
       "43     0\n",
       "69     1\n",
       "116    0\n",
       "103    1\n",
       "108    1\n",
       "61     1\n",
       "31     0\n",
       "33     0\n",
       "119    1\n",
       "79     1\n",
       "88     1\n",
       "6      0\n",
       "113    1\n",
       "65     1\n",
       "32     0\n",
       "48     0\n",
       "25     0\n",
       "102    0\n",
       "14     0\n",
       "55     0\n",
       "97     1\n",
       "3      0\n",
       "42     0\n",
       "80     0\n",
       "94     0\n",
       "58     0\n",
       "118    1\n",
       "Name: Nefritis, dtype: uint8"
      ]
     },
     "execution_count": 64,
     "metadata": {},
     "output_type": "execute_result"
    }
   ],
   "source": [
    "y_test2"
   ]
  },
  {
   "cell_type": "code",
   "execution_count": 65,
   "id": "3170c523",
   "metadata": {},
   "outputs": [
    {
     "data": {
      "text/html": [
       "<div>\n",
       "<style scoped>\n",
       "    .dataframe tbody tr th:only-of-type {\n",
       "        vertical-align: middle;\n",
       "    }\n",
       "\n",
       "    .dataframe tbody tr th {\n",
       "        vertical-align: top;\n",
       "    }\n",
       "\n",
       "    .dataframe thead th {\n",
       "        text-align: right;\n",
       "    }\n",
       "</style>\n",
       "<table border=\"1\" class=\"dataframe\">\n",
       "  <thead>\n",
       "    <tr style=\"text-align: right;\">\n",
       "      <th></th>\n",
       "      <th>Temperatura</th>\n",
       "      <th>Nauseas</th>\n",
       "      <th>Dolor lumbar</th>\n",
       "      <th>Empuje de Orina</th>\n",
       "      <th>Dolores de Miccion</th>\n",
       "      <th>Ardor de Uretra</th>\n",
       "    </tr>\n",
       "  </thead>\n",
       "  <tbody>\n",
       "    <tr>\n",
       "      <th>13</th>\n",
       "      <td>36.7</td>\n",
       "      <td>0</td>\n",
       "      <td>0</td>\n",
       "      <td>1</td>\n",
       "      <td>1</td>\n",
       "      <td>1</td>\n",
       "    </tr>\n",
       "    <tr>\n",
       "      <th>68</th>\n",
       "      <td>39.4</td>\n",
       "      <td>0</td>\n",
       "      <td>1</td>\n",
       "      <td>1</td>\n",
       "      <td>0</td>\n",
       "      <td>1</td>\n",
       "    </tr>\n",
       "    <tr>\n",
       "      <th>54</th>\n",
       "      <td>37.8</td>\n",
       "      <td>0</td>\n",
       "      <td>0</td>\n",
       "      <td>1</td>\n",
       "      <td>0</td>\n",
       "      <td>0</td>\n",
       "    </tr>\n",
       "    <tr>\n",
       "      <th>21</th>\n",
       "      <td>37.0</td>\n",
       "      <td>0</td>\n",
       "      <td>0</td>\n",
       "      <td>1</td>\n",
       "      <td>1</td>\n",
       "      <td>0</td>\n",
       "    </tr>\n",
       "    <tr>\n",
       "      <th>67</th>\n",
       "      <td>39.0</td>\n",
       "      <td>0</td>\n",
       "      <td>1</td>\n",
       "      <td>1</td>\n",
       "      <td>0</td>\n",
       "      <td>1</td>\n",
       "    </tr>\n",
       "    <tr>\n",
       "      <th>1</th>\n",
       "      <td>35.9</td>\n",
       "      <td>0</td>\n",
       "      <td>0</td>\n",
       "      <td>1</td>\n",
       "      <td>1</td>\n",
       "      <td>1</td>\n",
       "    </tr>\n",
       "    <tr>\n",
       "      <th>53</th>\n",
       "      <td>37.8</td>\n",
       "      <td>0</td>\n",
       "      <td>0</td>\n",
       "      <td>1</td>\n",
       "      <td>1</td>\n",
       "      <td>1</td>\n",
       "    </tr>\n",
       "    <tr>\n",
       "      <th>98</th>\n",
       "      <td>40.9</td>\n",
       "      <td>1</td>\n",
       "      <td>1</td>\n",
       "      <td>1</td>\n",
       "      <td>1</td>\n",
       "      <td>0</td>\n",
       "    </tr>\n",
       "    <tr>\n",
       "      <th>41</th>\n",
       "      <td>37.5</td>\n",
       "      <td>0</td>\n",
       "      <td>1</td>\n",
       "      <td>0</td>\n",
       "      <td>0</td>\n",
       "      <td>0</td>\n",
       "    </tr>\n",
       "    <tr>\n",
       "      <th>99</th>\n",
       "      <td>40.9</td>\n",
       "      <td>1</td>\n",
       "      <td>1</td>\n",
       "      <td>1</td>\n",
       "      <td>1</td>\n",
       "      <td>0</td>\n",
       "    </tr>\n",
       "    <tr>\n",
       "      <th>57</th>\n",
       "      <td>37.9</td>\n",
       "      <td>0</td>\n",
       "      <td>1</td>\n",
       "      <td>0</td>\n",
       "      <td>0</td>\n",
       "      <td>0</td>\n",
       "    </tr>\n",
       "    <tr>\n",
       "      <th>100</th>\n",
       "      <td>40.9</td>\n",
       "      <td>0</td>\n",
       "      <td>1</td>\n",
       "      <td>1</td>\n",
       "      <td>0</td>\n",
       "      <td>1</td>\n",
       "    </tr>\n",
       "    <tr>\n",
       "      <th>66</th>\n",
       "      <td>38.9</td>\n",
       "      <td>0</td>\n",
       "      <td>1</td>\n",
       "      <td>1</td>\n",
       "      <td>0</td>\n",
       "      <td>1</td>\n",
       "    </tr>\n",
       "    <tr>\n",
       "      <th>45</th>\n",
       "      <td>37.6</td>\n",
       "      <td>0</td>\n",
       "      <td>0</td>\n",
       "      <td>1</td>\n",
       "      <td>1</td>\n",
       "      <td>0</td>\n",
       "    </tr>\n",
       "    <tr>\n",
       "      <th>16</th>\n",
       "      <td>36.8</td>\n",
       "      <td>0</td>\n",
       "      <td>0</td>\n",
       "      <td>1</td>\n",
       "      <td>1</td>\n",
       "      <td>1</td>\n",
       "    </tr>\n",
       "    <tr>\n",
       "      <th>43</th>\n",
       "      <td>37.5</td>\n",
       "      <td>0</td>\n",
       "      <td>0</td>\n",
       "      <td>1</td>\n",
       "      <td>0</td>\n",
       "      <td>0</td>\n",
       "    </tr>\n",
       "    <tr>\n",
       "      <th>69</th>\n",
       "      <td>39.7</td>\n",
       "      <td>0</td>\n",
       "      <td>1</td>\n",
       "      <td>1</td>\n",
       "      <td>0</td>\n",
       "      <td>1</td>\n",
       "    </tr>\n",
       "    <tr>\n",
       "      <th>116</th>\n",
       "      <td>41.5</td>\n",
       "      <td>0</td>\n",
       "      <td>0</td>\n",
       "      <td>0</td>\n",
       "      <td>0</td>\n",
       "      <td>0</td>\n",
       "    </tr>\n",
       "    <tr>\n",
       "      <th>103</th>\n",
       "      <td>41.0</td>\n",
       "      <td>1</td>\n",
       "      <td>1</td>\n",
       "      <td>0</td>\n",
       "      <td>1</td>\n",
       "      <td>0</td>\n",
       "    </tr>\n",
       "    <tr>\n",
       "      <th>108</th>\n",
       "      <td>41.1</td>\n",
       "      <td>1</td>\n",
       "      <td>1</td>\n",
       "      <td>0</td>\n",
       "      <td>1</td>\n",
       "      <td>0</td>\n",
       "    </tr>\n",
       "    <tr>\n",
       "      <th>61</th>\n",
       "      <td>38.0</td>\n",
       "      <td>0</td>\n",
       "      <td>1</td>\n",
       "      <td>1</td>\n",
       "      <td>0</td>\n",
       "      <td>1</td>\n",
       "    </tr>\n",
       "    <tr>\n",
       "      <th>31</th>\n",
       "      <td>37.2</td>\n",
       "      <td>0</td>\n",
       "      <td>0</td>\n",
       "      <td>1</td>\n",
       "      <td>1</td>\n",
       "      <td>0</td>\n",
       "    </tr>\n",
       "    <tr>\n",
       "      <th>33</th>\n",
       "      <td>37.2</td>\n",
       "      <td>0</td>\n",
       "      <td>0</td>\n",
       "      <td>1</td>\n",
       "      <td>0</td>\n",
       "      <td>0</td>\n",
       "    </tr>\n",
       "    <tr>\n",
       "      <th>119</th>\n",
       "      <td>41.5</td>\n",
       "      <td>0</td>\n",
       "      <td>1</td>\n",
       "      <td>1</td>\n",
       "      <td>0</td>\n",
       "      <td>1</td>\n",
       "    </tr>\n",
       "    <tr>\n",
       "      <th>79</th>\n",
       "      <td>40.2</td>\n",
       "      <td>1</td>\n",
       "      <td>1</td>\n",
       "      <td>1</td>\n",
       "      <td>1</td>\n",
       "      <td>1</td>\n",
       "    </tr>\n",
       "    <tr>\n",
       "      <th>88</th>\n",
       "      <td>40.5</td>\n",
       "      <td>1</td>\n",
       "      <td>1</td>\n",
       "      <td>1</td>\n",
       "      <td>1</td>\n",
       "      <td>0</td>\n",
       "    </tr>\n",
       "    <tr>\n",
       "      <th>6</th>\n",
       "      <td>36.2</td>\n",
       "      <td>0</td>\n",
       "      <td>0</td>\n",
       "      <td>1</td>\n",
       "      <td>1</td>\n",
       "      <td>1</td>\n",
       "    </tr>\n",
       "    <tr>\n",
       "      <th>113</th>\n",
       "      <td>41.2</td>\n",
       "      <td>0</td>\n",
       "      <td>1</td>\n",
       "      <td>1</td>\n",
       "      <td>0</td>\n",
       "      <td>1</td>\n",
       "    </tr>\n",
       "    <tr>\n",
       "      <th>65</th>\n",
       "      <td>38.7</td>\n",
       "      <td>0</td>\n",
       "      <td>1</td>\n",
       "      <td>1</td>\n",
       "      <td>0</td>\n",
       "      <td>1</td>\n",
       "    </tr>\n",
       "    <tr>\n",
       "      <th>32</th>\n",
       "      <td>37.2</td>\n",
       "      <td>0</td>\n",
       "      <td>1</td>\n",
       "      <td>0</td>\n",
       "      <td>0</td>\n",
       "      <td>0</td>\n",
       "    </tr>\n",
       "    <tr>\n",
       "      <th>48</th>\n",
       "      <td>37.7</td>\n",
       "      <td>0</td>\n",
       "      <td>0</td>\n",
       "      <td>1</td>\n",
       "      <td>1</td>\n",
       "      <td>0</td>\n",
       "    </tr>\n",
       "    <tr>\n",
       "      <th>25</th>\n",
       "      <td>37.0</td>\n",
       "      <td>0</td>\n",
       "      <td>0</td>\n",
       "      <td>1</td>\n",
       "      <td>1</td>\n",
       "      <td>1</td>\n",
       "    </tr>\n",
       "    <tr>\n",
       "      <th>102</th>\n",
       "      <td>41.0</td>\n",
       "      <td>0</td>\n",
       "      <td>0</td>\n",
       "      <td>0</td>\n",
       "      <td>0</td>\n",
       "      <td>0</td>\n",
       "    </tr>\n",
       "    <tr>\n",
       "      <th>14</th>\n",
       "      <td>36.7</td>\n",
       "      <td>0</td>\n",
       "      <td>1</td>\n",
       "      <td>0</td>\n",
       "      <td>0</td>\n",
       "      <td>0</td>\n",
       "    </tr>\n",
       "    <tr>\n",
       "      <th>55</th>\n",
       "      <td>37.9</td>\n",
       "      <td>0</td>\n",
       "      <td>0</td>\n",
       "      <td>1</td>\n",
       "      <td>1</td>\n",
       "      <td>0</td>\n",
       "    </tr>\n",
       "    <tr>\n",
       "      <th>97</th>\n",
       "      <td>40.8</td>\n",
       "      <td>0</td>\n",
       "      <td>1</td>\n",
       "      <td>1</td>\n",
       "      <td>0</td>\n",
       "      <td>1</td>\n",
       "    </tr>\n",
       "    <tr>\n",
       "      <th>3</th>\n",
       "      <td>36.0</td>\n",
       "      <td>0</td>\n",
       "      <td>0</td>\n",
       "      <td>1</td>\n",
       "      <td>1</td>\n",
       "      <td>1</td>\n",
       "    </tr>\n",
       "    <tr>\n",
       "      <th>42</th>\n",
       "      <td>37.5</td>\n",
       "      <td>0</td>\n",
       "      <td>0</td>\n",
       "      <td>1</td>\n",
       "      <td>1</td>\n",
       "      <td>1</td>\n",
       "    </tr>\n",
       "    <tr>\n",
       "      <th>80</th>\n",
       "      <td>40.2</td>\n",
       "      <td>0</td>\n",
       "      <td>0</td>\n",
       "      <td>0</td>\n",
       "      <td>0</td>\n",
       "      <td>0</td>\n",
       "    </tr>\n",
       "    <tr>\n",
       "      <th>94</th>\n",
       "      <td>40.7</td>\n",
       "      <td>0</td>\n",
       "      <td>0</td>\n",
       "      <td>0</td>\n",
       "      <td>0</td>\n",
       "      <td>0</td>\n",
       "    </tr>\n",
       "    <tr>\n",
       "      <th>58</th>\n",
       "      <td>37.9</td>\n",
       "      <td>0</td>\n",
       "      <td>0</td>\n",
       "      <td>1</td>\n",
       "      <td>1</td>\n",
       "      <td>1</td>\n",
       "    </tr>\n",
       "    <tr>\n",
       "      <th>118</th>\n",
       "      <td>41.5</td>\n",
       "      <td>0</td>\n",
       "      <td>1</td>\n",
       "      <td>1</td>\n",
       "      <td>0</td>\n",
       "      <td>1</td>\n",
       "    </tr>\n",
       "  </tbody>\n",
       "</table>\n",
       "</div>"
      ],
      "text/plain": [
       "     Temperatura  Nauseas  Dolor lumbar  Empuje de Orina  Dolores de Miccion  \\\n",
       "13          36.7        0             0                1                   1   \n",
       "68          39.4        0             1                1                   0   \n",
       "54          37.8        0             0                1                   0   \n",
       "21          37.0        0             0                1                   1   \n",
       "67          39.0        0             1                1                   0   \n",
       "1           35.9        0             0                1                   1   \n",
       "53          37.8        0             0                1                   1   \n",
       "98          40.9        1             1                1                   1   \n",
       "41          37.5        0             1                0                   0   \n",
       "99          40.9        1             1                1                   1   \n",
       "57          37.9        0             1                0                   0   \n",
       "100         40.9        0             1                1                   0   \n",
       "66          38.9        0             1                1                   0   \n",
       "45          37.6        0             0                1                   1   \n",
       "16          36.8        0             0                1                   1   \n",
       "43          37.5        0             0                1                   0   \n",
       "69          39.7        0             1                1                   0   \n",
       "116         41.5        0             0                0                   0   \n",
       "103         41.0        1             1                0                   1   \n",
       "108         41.1        1             1                0                   1   \n",
       "61          38.0        0             1                1                   0   \n",
       "31          37.2        0             0                1                   1   \n",
       "33          37.2        0             0                1                   0   \n",
       "119         41.5        0             1                1                   0   \n",
       "79          40.2        1             1                1                   1   \n",
       "88          40.5        1             1                1                   1   \n",
       "6           36.2        0             0                1                   1   \n",
       "113         41.2        0             1                1                   0   \n",
       "65          38.7        0             1                1                   0   \n",
       "32          37.2        0             1                0                   0   \n",
       "48          37.7        0             0                1                   1   \n",
       "25          37.0        0             0                1                   1   \n",
       "102         41.0        0             0                0                   0   \n",
       "14          36.7        0             1                0                   0   \n",
       "55          37.9        0             0                1                   1   \n",
       "97          40.8        0             1                1                   0   \n",
       "3           36.0        0             0                1                   1   \n",
       "42          37.5        0             0                1                   1   \n",
       "80          40.2        0             0                0                   0   \n",
       "94          40.7        0             0                0                   0   \n",
       "58          37.9        0             0                1                   1   \n",
       "118         41.5        0             1                1                   0   \n",
       "\n",
       "     Ardor de Uretra  \n",
       "13                 1  \n",
       "68                 1  \n",
       "54                 0  \n",
       "21                 0  \n",
       "67                 1  \n",
       "1                  1  \n",
       "53                 1  \n",
       "98                 0  \n",
       "41                 0  \n",
       "99                 0  \n",
       "57                 0  \n",
       "100                1  \n",
       "66                 1  \n",
       "45                 0  \n",
       "16                 1  \n",
       "43                 0  \n",
       "69                 1  \n",
       "116                0  \n",
       "103                0  \n",
       "108                0  \n",
       "61                 1  \n",
       "31                 0  \n",
       "33                 0  \n",
       "119                1  \n",
       "79                 1  \n",
       "88                 0  \n",
       "6                  1  \n",
       "113                1  \n",
       "65                 1  \n",
       "32                 0  \n",
       "48                 0  \n",
       "25                 1  \n",
       "102                0  \n",
       "14                 0  \n",
       "55                 0  \n",
       "97                 1  \n",
       "3                  1  \n",
       "42                 1  \n",
       "80                 0  \n",
       "94                 0  \n",
       "58                 1  \n",
       "118                1  "
      ]
     },
     "execution_count": 65,
     "metadata": {},
     "output_type": "execute_result"
    }
   ],
   "source": [
    "X_test2"
   ]
  },
  {
   "cell_type": "code",
   "execution_count": 66,
   "id": "db6c29af",
   "metadata": {},
   "outputs": [
    {
     "data": {
      "text/plain": [
       "array([0, 1, 0, 0, 1, 0, 0, 1, 0, 1, 0, 1, 1, 0, 0, 0, 1, 0, 1, 1, 1, 0,\n",
       "       0, 1, 1, 1, 0, 1, 1, 0, 0, 0, 0, 0, 0, 1, 0, 0, 0, 0, 0, 1],\n",
       "      dtype=uint8)"
      ]
     },
     "execution_count": 66,
     "metadata": {},
     "output_type": "execute_result"
    }
   ],
   "source": [
    "predictions2"
   ]
  },
  {
   "cell_type": "markdown",
   "id": "d63d25fe",
   "metadata": {},
   "source": [
    "## Evaluación MODELO 2 PARA Y=NEFRITIS"
   ]
  },
  {
   "cell_type": "code",
   "execution_count": 67,
   "id": "d385ece7",
   "metadata": {},
   "outputs": [
    {
     "data": {
      "text/plain": [
       "array([[25,  0],\n",
       "       [ 0, 17]])"
      ]
     },
     "execution_count": 67,
     "metadata": {},
     "output_type": "execute_result"
    }
   ],
   "source": [
    "confusion_matrix(y_test2,predictions2)"
   ]
  },
  {
   "cell_type": "code",
   "execution_count": 68,
   "id": "fa98107e",
   "metadata": {},
   "outputs": [
    {
     "name": "stdout",
     "output_type": "stream",
     "text": [
      "              precision    recall  f1-score   support\n",
      "\n",
      "           0       1.00      1.00      1.00        25\n",
      "           1       1.00      1.00      1.00        17\n",
      "\n",
      "    accuracy                           1.00        42\n",
      "   macro avg       1.00      1.00      1.00        42\n",
      "weighted avg       1.00      1.00      1.00        42\n",
      "\n"
     ]
    }
   ],
   "source": [
    "print(classification_report(y_test2,predictions2))"
   ]
  },
  {
   "cell_type": "markdown",
   "id": "bb71ddd6",
   "metadata": {},
   "source": [
    "## Uso de KNN (K vecinos más cercanos) Y=INFLAMACION"
   ]
  },
  {
   "cell_type": "code",
   "execution_count": 72,
   "id": "cd909b5a",
   "metadata": {},
   "outputs": [],
   "source": [
    "X_train3, X_test3, y_train3, y_test3 = train_test_split(X1,y1,\n",
    "                                                    test_size=0.30,\n",
    "                                                    random_state=100)"
   ]
  },
  {
   "cell_type": "code",
   "execution_count": 73,
   "id": "0cf5199c",
   "metadata": {},
   "outputs": [],
   "source": [
    "from sklearn.neighbors import KNeighborsClassifier"
   ]
  },
  {
   "cell_type": "code",
   "execution_count": 74,
   "id": "c32e38bf",
   "metadata": {},
   "outputs": [],
   "source": [
    "knn = KNeighborsClassifier(n_neighbors=1)"
   ]
  },
  {
   "cell_type": "code",
   "execution_count": 75,
   "id": "f5624ffc",
   "metadata": {},
   "outputs": [
    {
     "data": {
      "text/plain": [
       "KNeighborsClassifier(n_neighbors=1)"
      ]
     },
     "execution_count": 75,
     "metadata": {},
     "output_type": "execute_result"
    }
   ],
   "source": [
    "knn.fit(X_train3,y_train3)"
   ]
  },
  {
   "cell_type": "code",
   "execution_count": 76,
   "id": "223a7eab",
   "metadata": {},
   "outputs": [],
   "source": [
    "pred = knn.predict(X_test3)"
   ]
  },
  {
   "cell_type": "markdown",
   "id": "d0a5d626",
   "metadata": {},
   "source": [
    "# # Predicciones y Evaluaciones"
   ]
  },
  {
   "cell_type": "code",
   "execution_count": 77,
   "id": "2ccb5426",
   "metadata": {},
   "outputs": [],
   "source": [
    "from sklearn.metrics import classification_report,confusion_matrix"
   ]
  },
  {
   "cell_type": "code",
   "execution_count": 78,
   "id": "50b54778",
   "metadata": {},
   "outputs": [
    {
     "name": "stdout",
     "output_type": "stream",
     "text": [
      "[[18  0]\n",
      " [ 0 18]]\n"
     ]
    }
   ],
   "source": [
    "print(confusion_matrix(y_test3,pred))"
   ]
  },
  {
   "cell_type": "code",
   "execution_count": 79,
   "id": "c1470e9f",
   "metadata": {},
   "outputs": [
    {
     "name": "stdout",
     "output_type": "stream",
     "text": [
      "              precision    recall  f1-score   support\n",
      "\n",
      "           0       1.00      1.00      1.00        18\n",
      "           1       1.00      1.00      1.00        18\n",
      "\n",
      "    accuracy                           1.00        36\n",
      "   macro avg       1.00      1.00      1.00        36\n",
      "weighted avg       1.00      1.00      1.00        36\n",
      "\n"
     ]
    }
   ],
   "source": [
    "print(classification_report(y_test3,pred))"
   ]
  },
  {
   "cell_type": "markdown",
   "id": "1edf0704",
   "metadata": {},
   "source": [
    "## Elección del valor de K"
   ]
  },
  {
   "cell_type": "code",
   "execution_count": 80,
   "id": "53092c99",
   "metadata": {},
   "outputs": [],
   "source": [
    "tasa_error = []\n",
    "\n",
    "# Tomará algún tiempo\n",
    "for i in range(1,41):\n",
    "    knn = KNeighborsClassifier(n_neighbors=i)\n",
    "    knn.fit(X_train3,y_train3)\n",
    "    pred_i = knn.predict(X_test3)\n",
    "    tasa_error.append(np.mean(pred_i != y_test3))"
   ]
  },
  {
   "cell_type": "code",
   "execution_count": 81,
   "id": "17768de0",
   "metadata": {},
   "outputs": [
    {
     "data": {
      "text/plain": [
       "Text(0, 0.5, 'Tasa de Error')"
      ]
     },
     "execution_count": 81,
     "metadata": {},
     "output_type": "execute_result"
    },
    {
     "data": {
      "image/png": "[encoded data removed]",
      "text/plain": [
       "<Figure size 2500x1500 with 1 Axes>"
      ]
     },
     "metadata": {},
     "output_type": "display_data"
    }
   ],
   "source": [
    "plt.figure(figsize=(10,6),dpi=250)\n",
    "plt.plot(range(1,41),tasa_error,color='blue', linestyle='dashed', marker='o',\n",
    "         markerfacecolor='red', markersize=10)\n",
    "plt.title('Tasa de Error vs. Valor de K')\n",
    "plt.xlabel('K')\n",
    "plt.ylabel('Tasa de Error')"
   ]
  },
  {
   "cell_type": "code",
   "execution_count": 82,
   "id": "a85553a3",
   "metadata": {},
   "outputs": [
    {
     "name": "stdout",
     "output_type": "stream",
     "text": [
      "CON K=30\n",
      "\n",
      "\n",
      "[[16  2]\n",
      " [ 5 13]]\n",
      "\n",
      "\n",
      "              precision    recall  f1-score   support\n",
      "\n",
      "           0       0.76      0.89      0.82        18\n",
      "           1       0.87      0.72      0.79        18\n",
      "\n",
      "    accuracy                           0.81        36\n",
      "   macro avg       0.81      0.81      0.80        36\n",
      "weighted avg       0.81      0.81      0.80        36\n",
      "\n"
     ]
    }
   ],
   "source": [
    "# AHORA CON K=30\n",
    "knn = KNeighborsClassifier(n_neighbors=30)\n",
    "\n",
    "knn.fit(X_train3,y_train3)\n",
    "pred = knn.predict(X_test3)\n",
    "\n",
    "print('CON K=30')\n",
    "print('\\n')\n",
    "print(confusion_matrix(y_test3,pred))\n",
    "print('\\n')\n",
    "print(classification_report(y_test3,pred))"
   ]
  },
  {
   "cell_type": "code",
   "execution_count": 83,
   "id": "6ac9441f",
   "metadata": {},
   "outputs": [
    {
     "data": {
      "text/plain": [
       "<sklearn.metrics._plot.confusion_matrix.ConfusionMatrixDisplay at 0x7fa4e236b370>"
      ]
     },
     "execution_count": 83,
     "metadata": {},
     "output_type": "execute_result"
    },
    {
     "data": {
      "image/png": "[encoded data removed]",
      "text/plain": [
       "<Figure size 432x288 with 1 Axes>"
      ]
     },
     "metadata": {},
     "output_type": "display_data"
    }
   ],
   "source": [
    "from sklearn.metrics import plot_confusion_matrix\n",
    "plot_confusion_matrix(knn,X_test3,y_test3,colorbar=False)"
   ]
  },
  {
   "cell_type": "markdown",
   "id": "c479c03e",
   "metadata": {},
   "source": [
    "## CURVA DE ROC Y RECALL"
   ]
  },
  {
   "cell_type": "code",
   "execution_count": 84,
   "id": "d7938d56",
   "metadata": {},
   "outputs": [],
   "source": [
    "from sklearn.metrics import plot_roc_curve"
   ]
  },
  {
   "cell_type": "code",
   "execution_count": 85,
   "id": "a3f33bd1",
   "metadata": {},
   "outputs": [
    {
     "data": {
      "text/plain": [
       "<sklearn.metrics._plot.roc_curve.RocCurveDisplay at 0x7fa4dad3e640>"
      ]
     },
     "execution_count": 85,
     "metadata": {},
     "output_type": "execute_result"
    },
    {
     "data": {
      "image/png": "[encoded data removed]",
      "text/plain": [
       "<Figure size 432x288 with 1 Axes>"
      ]
     },
     "metadata": {},
     "output_type": "display_data"
    }
   ],
   "source": [
    "plot_roc_curve(knn,X_test3,y_test3)"
   ]
  },
  {
   "cell_type": "code",
   "execution_count": 86,
   "id": "1cf154ff",
   "metadata": {},
   "outputs": [],
   "source": [
    "from sklearn.metrics import plot_precision_recall_curve"
   ]
  },
  {
   "cell_type": "code",
   "execution_count": 87,
   "id": "ff296d13",
   "metadata": {},
   "outputs": [
    {
     "data": {
      "text/plain": [
       "<sklearn.metrics._plot.precision_recall_curve.PrecisionRecallDisplay at 0x7fa4dae1e460>"
      ]
     },
     "execution_count": 87,
     "metadata": {},
     "output_type": "execute_result"
    },
    {
     "data": {
      "image/png": "[encoded data removed]",
      "text/plain": [
       "<Figure size 432x288 with 1 Axes>"
      ]
     },
     "metadata": {},
     "output_type": "display_data"
    }
   ],
   "source": [
    "plot_precision_recall_curve(knn,X_test3,y_test3)"
   ]
  },
  {
   "cell_type": "markdown",
   "id": "4a4e7c74",
   "metadata": {},
   "source": [
    "## Uso de KNN (K vecinos más cercanos) Y=NEFRITIS"
   ]
  },
  {
   "cell_type": "code",
   "execution_count": 88,
   "id": "b3d923e7",
   "metadata": {},
   "outputs": [],
   "source": [
    "X_train4, X_test4, y_train4, y_test4 = train_test_split(X2,y2,\n",
    "                                                    test_size=0.30,\n",
    "                                                    random_state=100)"
   ]
  },
  {
   "cell_type": "code",
   "execution_count": 89,
   "id": "2d624d04",
   "metadata": {},
   "outputs": [],
   "source": [
    "knn = KNeighborsClassifier(n_neighbors=1)"
   ]
  },
  {
   "cell_type": "code",
   "execution_count": 90,
   "id": "6c3775eb",
   "metadata": {},
   "outputs": [
    {
     "data": {
      "text/plain": [
       "KNeighborsClassifier(n_neighbors=1)"
      ]
     },
     "execution_count": 90,
     "metadata": {},
     "output_type": "execute_result"
    }
   ],
   "source": [
    "knn.fit(X_train4,y_train4)"
   ]
  },
  {
   "cell_type": "code",
   "execution_count": 91,
   "id": "29785407",
   "metadata": {},
   "outputs": [],
   "source": [
    "pred = knn.predict(X_test4)"
   ]
  },
  {
   "cell_type": "markdown",
   "id": "e853db30",
   "metadata": {},
   "source": [
    "# # Predicciones y Evaluaciones"
   ]
  },
  {
   "cell_type": "code",
   "execution_count": 92,
   "id": "c71b1ebd",
   "metadata": {},
   "outputs": [
    {
     "name": "stdout",
     "output_type": "stream",
     "text": [
      "[[24  0]\n",
      " [ 0 12]]\n"
     ]
    }
   ],
   "source": [
    "print(confusion_matrix(y_test4,pred))"
   ]
  },
  {
   "cell_type": "code",
   "execution_count": 93,
   "id": "29af4891",
   "metadata": {},
   "outputs": [
    {
     "name": "stdout",
     "output_type": "stream",
     "text": [
      "              precision    recall  f1-score   support\n",
      "\n",
      "           0       0.46      0.61      0.52        18\n",
      "           1       0.42      0.28      0.33        18\n",
      "\n",
      "    accuracy                           0.44        36\n",
      "   macro avg       0.44      0.44      0.43        36\n",
      "weighted avg       0.44      0.44      0.43        36\n",
      "\n"
     ]
    }
   ],
   "source": [
    "print(classification_report(y_test3,pred))"
   ]
  },
  {
   "cell_type": "markdown",
   "id": "276a5d3f",
   "metadata": {},
   "source": [
    "## Elección del valor de K"
   ]
  },
  {
   "cell_type": "code",
   "execution_count": 94,
   "id": "6b944d08",
   "metadata": {},
   "outputs": [],
   "source": [
    "tasa_error = []\n",
    "\n",
    "# Tomará algún tiempo\n",
    "for i in range(1,41):\n",
    "    knn = KNeighborsClassifier(n_neighbors=i)\n",
    "    knn.fit(X_train4,y_train4)\n",
    "    pred_i = knn.predict(X_test4)\n",
    "    tasa_error.append(np.mean(pred_i != y_test4))"
   ]
  },
  {
   "cell_type": "code",
   "execution_count": 95,
   "id": "c27dcc74",
   "metadata": {},
   "outputs": [
    {
     "data": {
      "text/plain": [
       "Text(0, 0.5, 'Tasa de Error')"
      ]
     },
     "execution_count": 95,
     "metadata": {},
     "output_type": "execute_result"
    },
    {
     "data": {
      "image/png": "[encoded data removed]",
      "text/plain": [
       "<Figure size 2500x1500 with 1 Axes>"
      ]
     },
     "metadata": {},
     "output_type": "display_data"
    }
   ],
   "source": [
    "plt.figure(figsize=(10,6),dpi=250)\n",
    "plt.plot(range(1,41),tasa_error,color='blue', linestyle='dashed', marker='o',\n",
    "         markerfacecolor='red', markersize=10)\n",
    "plt.title('Tasa de Error vs. Valor de K')\n",
    "plt.xlabel('K')\n",
    "plt.ylabel('Tasa de Error')"
   ]
  },
  {
   "cell_type": "code",
   "execution_count": 96,
   "id": "d15f6333",
   "metadata": {},
   "outputs": [
    {
     "name": "stdout",
     "output_type": "stream",
     "text": [
      "CON K=40\n",
      "\n",
      "\n",
      "[[20  4]\n",
      " [ 1 11]]\n",
      "\n",
      "\n",
      "              precision    recall  f1-score   support\n",
      "\n",
      "           0       0.95      0.83      0.89        24\n",
      "           1       0.73      0.92      0.81        12\n",
      "\n",
      "    accuracy                           0.86        36\n",
      "   macro avg       0.84      0.88      0.85        36\n",
      "weighted avg       0.88      0.86      0.86        36\n",
      "\n"
     ]
    }
   ],
   "source": [
    "# AHORA CON K=20\n",
    "knn = KNeighborsClassifier(n_neighbors=20)\n",
    "\n",
    "knn.fit(X_train4,y_train4)\n",
    "pred = knn.predict(X_test4)\n",
    "\n",
    "print('CON K=40')\n",
    "print('\\n')\n",
    "print(confusion_matrix(y_test4,pred))\n",
    "print('\\n')\n",
    "print(classification_report(y_test4,pred))"
   ]
  },
  {
   "cell_type": "code",
   "execution_count": 97,
   "id": "dcbbcdd7",
   "metadata": {},
   "outputs": [
    {
     "data": {
      "text/plain": [
       "<sklearn.metrics._plot.confusion_matrix.ConfusionMatrixDisplay at 0x7fa5095902b0>"
      ]
     },
     "execution_count": 97,
     "metadata": {},
     "output_type": "execute_result"
    },
    {
     "data": {
      "image/png": "[encoded data removed]",
      "text/plain": [
       "<Figure size 432x288 with 1 Axes>"
      ]
     },
     "metadata": {},
     "output_type": "display_data"
    }
   ],
   "source": [
    "plot_confusion_matrix(knn,X_test4,y_test4,colorbar=False)"
   ]
  },
  {
   "cell_type": "markdown",
   "id": "d89b7aef",
   "metadata": {},
   "source": [
    "## CURVA DE ROC Y RECALL"
   ]
  },
  {
   "cell_type": "code",
   "execution_count": 98,
   "id": "be94a905",
   "metadata": {},
   "outputs": [
    {
     "data": {
      "text/plain": [
       "<sklearn.metrics._plot.roc_curve.RocCurveDisplay at 0x7fa5095a50a0>"
      ]
     },
     "execution_count": 98,
     "metadata": {},
     "output_type": "execute_result"
    },
    {
     "data": {
      "image/png": "[encoded data removed]",
      "text/plain": [
       "<Figure size 432x288 with 1 Axes>"
      ]
     },
     "metadata": {},
     "output_type": "display_data"
    }
   ],
   "source": [
    "plot_roc_curve(knn,X_test4,y_test4)"
   ]
  },
  {
   "cell_type": "code",
   "execution_count": 99,
   "id": "a300eaa0",
   "metadata": {},
   "outputs": [
    {
     "data": {
      "text/plain": [
       "<sklearn.metrics._plot.precision_recall_curve.PrecisionRecallDisplay at 0x7fa4e9dfb4f0>"
      ]
     },
     "execution_count": 99,
     "metadata": {},
     "output_type": "execute_result"
    },
    {
     "data": {
      "image/png": "[encoded data removed]",
      "text/plain": [
       "<Figure size 432x288 with 1 Axes>"
      ]
     },
     "metadata": {},
     "output_type": "display_data"
    }
   ],
   "source": [
    "plot_precision_recall_curve(knn,X_test4,y_test4)"
   ]
  },
  {
   "cell_type": "markdown",
   "id": "ff446529",
   "metadata": {},
   "source": [
    "# **CONCLUSIONES**"
   ]
  },
  {
   "cell_type": "markdown",
   "id": "0cda64ac",
   "metadata": {},
   "source": [
    "- Para los 2 primeros modelos donde se utilizo regresion logistica:\n",
    "\n",
    "    -EN EL MODELO #1 QUE TIENE COMO Y=INFLAMACION ,SE PUEDE EVIDENCIAR QUE EL MODELO ES PERFECTO\n",
    "    DANDO UNA EXACTITUD DE 1\n",
    "    \n",
    "    -EN EL MODELO #2 QUE TIENE COMO Y=NETRIFIS , TAMBIEN SE VIDENCIA UN GRANDO DE PERFECCION,\n",
    "    DEBIDO A QUE LA EXACTITUD ES DE 1\n",
    "    \n",
    "    -> POR LO TANTO A PARTIR DE ESTAS DOS MODELOS PODEMOS DECIR QUE NUESTROS MODELOS DETECTAS LAS CATEGORIAS\n",
    "    MUY BIEN Y CUANDO LAS DETECTA TENEMOS LA CONFIABILIDAD PERFECTA\n",
    "    \n",
    "- Para los siguientes 2 modelos donde se utiliza KNN:\n",
    "    \n",
    "    -PARA AMBOS MODELOS CUANDO SE UTILIZA UN K QUE VARIA DE 0<=K<=12 LA TASA DE ERROR ES DE 0 , LO CUAL PARA ESTOS  \n",
    "    VALORES K , EL MODELO RESULTA SER PERFECTO"
   ]
  }
 ],
 "metadata": {
  "kernelspec": {
   "display_name": "Python 3 (ipykernel)",
   "language": "python",
   "name": "python3"
  },
  "language_info": {
   "codemirror_mode": {
    "name": "ipython",
    "version": 3
   },
   "file_extension": ".py",
   "mimetype": "text/x-python",
   "name": "python",
   "nbconvert_exporter": "python",
   "pygments_lexer": "ipython3",
   "version": "3.9.7"
  }
 },
 "nbformat": 4,
 "nbformat_minor": 5
}
