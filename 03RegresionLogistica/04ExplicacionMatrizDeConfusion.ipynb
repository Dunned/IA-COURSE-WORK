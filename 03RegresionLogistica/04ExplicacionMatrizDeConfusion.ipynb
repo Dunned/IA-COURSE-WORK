{
 "cells": [
  {
   "cell_type": "markdown",
   "id": "e9c579f0",
   "metadata": {},
   "source": [
    "# Matriz de Confusión Explicada"
   ]
  },
  {
   "cell_type": "code",
   "execution_count": 23,
   "id": "6c49a952",
   "metadata": {},
   "outputs": [],
   "source": [
    "# Valores verdaderos (reales)\n",
    "y_verdadero = [0,1,2,2,2]\n",
    "\n",
    "# Resultados de la predicción\n",
    "y_predicho  = [0,0,2,2,1]"
   ]
  },
  {
   "cell_type": "code",
   "execution_count": 4,
   "id": "5ce0c044",
   "metadata": {},
   "outputs": [],
   "source": [
    "etiquetas = ['clase 0','clase 1','clase 2']"
   ]
  },
  {
   "cell_type": "code",
   "execution_count": 5,
   "id": "f10a2918",
   "metadata": {},
   "outputs": [],
   "source": [
    "from sklearn.metrics import confusion_matrix"
   ]
  },
  {
   "cell_type": "code",
   "execution_count": 6,
   "id": "44011a17",
   "metadata": {},
   "outputs": [
    {
     "data": {
      "text/plain": [
       "array([[1, 0, 0],\n",
       "       [1, 0, 0],\n",
       "       [0, 1, 2]])"
      ]
     },
     "execution_count": 6,
     "metadata": {},
     "output_type": "execute_result"
    }
   ],
   "source": [
    "confusion_matrix(y_verdadero,y_predicho)"
   ]
  },
  {
   "cell_type": "code",
   "execution_count": 7,
   "id": "e126f2ad",
   "metadata": {},
   "outputs": [],
   "source": [
    "from sklearn.metrics import classification_report"
   ]
  },
  {
   "cell_type": "code",
   "execution_count": 8,
   "id": "9162521c",
   "metadata": {},
   "outputs": [
    {
     "name": "stdout",
     "output_type": "stream",
     "text": [
      "              precision    recall  f1-score   support\n",
      "\n",
      "     clase 0       0.50      1.00      0.67         1\n",
      "     clase 1       0.00      0.00      0.00         1\n",
      "     clase 2       1.00      0.67      0.80         3\n",
      "\n",
      "    accuracy                           0.60         5\n",
      "   macro avg       0.50      0.56      0.49         5\n",
      "weighted avg       0.70      0.60      0.61         5\n",
      "\n"
     ]
    }
   ],
   "source": [
    "print(classification_report(y_verdadero,y_predicho,target_names=etiquetas))"
   ]
  }
 ],
 "metadata": {
  "kernelspec": {
   "display_name": "Python 3 (ipykernel)",
   "language": "python",
   "name": "python3"
  },
  "language_info": {
   "codemirror_mode": {
    "name": "ipython",
    "version": 3
   },
   "file_extension": ".py",
   "mimetype": "text/x-python",
   "name": "python",
   "nbconvert_exporter": "python",
   "pygments_lexer": "ipython3",
   "version": "3.9.7"
  }
 },
 "nbformat": 4,
 "nbformat_minor": 5
}
